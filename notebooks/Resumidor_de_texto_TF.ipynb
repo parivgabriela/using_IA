{
  "cells": [
    {
      "cell_type": "markdown",
      "source": [
        "# Resumidor de texto\n",
        "\n",
        "---\n",
        "\n",
        "\n",
        "## Importación de librerías"
      ],
      "metadata": {
        "id": "1sdjC-Irj9U9"
      }
    },
    {
      "cell_type": "code",
      "metadata": {
        "source_hash": null,
        "execution_start": 1718411403138,
        "execution_millis": 921,
        "deepnote_to_be_reexecuted": false,
        "cell_id": "95adc02936ff4a8bb3319aedd8e07fdf",
        "deepnote_cell_type": "code",
        "id": "7anYZpxHhZbl"
      },
      "source": [
        "import pandas as pd\n",
        "import numpy as np\n",
        "import textwrap\n",
        "import nltk\n",
        "from nltk.corpus import stopwords\n",
        "from sklearn.feature_extraction.text import TfidfVectorizer\n",
        "from nltk.tokenize import word_tokenize\n",
        "from nltk.tokenize import sent_tokenize"
      ],
      "execution_count": 29,
      "outputs": []
    },
    {
      "cell_type": "markdown",
      "source": [
        "## NLTK\n",
        "NLTK es una plataforma líder para desarrollar programas en Python que trabajan con datos del lenguaje humano."
      ],
      "metadata": {
        "id": "h9hXowagx-aK"
      }
    },
    {
      "cell_type": "code",
      "metadata": {
        "source_hash": null,
        "execution_start": 1718411406988,
        "execution_millis": 425,
        "deepnote_to_be_reexecuted": false,
        "cell_id": "8723f0a45e1d401dbb6b2da224927395",
        "deepnote_cell_type": "code",
        "id": "_ZF0KFzGhZbn",
        "outputId": "25849f02-914b-478b-d629-cd4584db7071",
        "colab": {
          "base_uri": "https://localhost:8080/"
        }
      },
      "source": [
        "nltk.download('punkt')\n",
        "nltk.download('stopwords')\n",
        "nltk.download('punkt_tab')"
      ],
      "execution_count": 30,
      "outputs": [
        {
          "output_type": "stream",
          "name": "stderr",
          "text": [
            "[nltk_data] Downloading package punkt to /root/nltk_data...\n",
            "[nltk_data]   Package punkt is already up-to-date!\n",
            "[nltk_data] Downloading package stopwords to /root/nltk_data...\n",
            "[nltk_data]   Package stopwords is already up-to-date!\n",
            "[nltk_data] Downloading package punkt_tab to /root/nltk_data...\n",
            "[nltk_data]   Package punkt_tab is already up-to-date!\n"
          ]
        },
        {
          "output_type": "execute_result",
          "data": {
            "text/plain": [
              "True"
            ]
          },
          "metadata": {},
          "execution_count": 30
        }
      ]
    },
    {
      "cell_type": "markdown",
      "source": [
        "## Importación del dataset"
      ],
      "metadata": {
        "id": "njPwcfpL5mTD"
      }
    },
    {
      "cell_type": "code",
      "source": [
        "ID_planilla= \"1c6_vnwkiuRReQD2a3MzRXEgyzGWAhUOItXKX8OVhL-8\"\n",
        "URL=f'https://docs.google.com/spreadsheets/d/{ID_planilla}/gviz/tq?tqx=out:csv&sheet='"
      ],
      "metadata": {
        "id": "4QmxAD9_DfiW"
      },
      "execution_count": 31,
      "outputs": []
    },
    {
      "cell_type": "code",
      "metadata": {
        "source_hash": null,
        "execution_start": 1718411410437,
        "execution_millis": 568,
        "deepnote_to_be_reexecuted": false,
        "cell_id": "22b9e728b8d048cdb4040142dcf93e12",
        "deepnote_cell_type": "code",
        "id": "hpG62vQEhZbo",
        "colab": {
          "base_uri": "https://localhost:8080/",
          "height": 206
        },
        "outputId": "858944c3-65a7-42bd-e8e0-c06f4e9d87bd"
      },
      "source": [
        "df_total = pd.read_csv(URL+'practica_2_df_total')\n",
        "df_total.tail()"
      ],
      "execution_count": 32,
      "outputs": [
        {
          "output_type": "execute_result",
          "data": {
            "text/plain": [
              "                                                    url  \\\n",
              "1212  https://www.bbva.com/es/como-lograr-que-los-in...   \n",
              "1213  https://www.bbva.com/es/podcast-como-nos-afect...   \n",
              "1214   https://www.larepublica.co/redirect/post/3253735   \n",
              "1215  https://www.bbva.com/es/bbva-y-barcelona-healt...   \n",
              "1216   https://www.larepublica.co/redirect/post/3263980   \n",
              "\n",
              "                                                   news           Type  \n",
              "1212  En la vida de toda empresa emergente llega un ...     Innovacion  \n",
              "1213  La espiral alcista de los precios continúa y g...  Macroeconomia  \n",
              "1214  Las grandes derrotas nacionales son experienci...       Alianzas  \n",
              "1215  BBVA ha alcanzado un acuerdo de colaboración c...     Innovacion  \n",
              "1216  Casi entrando a la parte final de noviembre la...       Alianzas  "
            ],
            "text/html": [
              "\n",
              "  <div id=\"df-0287fc71-b428-418d-8014-6f1349f28a43\" class=\"colab-df-container\">\n",
              "    <div>\n",
              "<style scoped>\n",
              "    .dataframe tbody tr th:only-of-type {\n",
              "        vertical-align: middle;\n",
              "    }\n",
              "\n",
              "    .dataframe tbody tr th {\n",
              "        vertical-align: top;\n",
              "    }\n",
              "\n",
              "    .dataframe thead th {\n",
              "        text-align: right;\n",
              "    }\n",
              "</style>\n",
              "<table border=\"1\" class=\"dataframe\">\n",
              "  <thead>\n",
              "    <tr style=\"text-align: right;\">\n",
              "      <th></th>\n",
              "      <th>url</th>\n",
              "      <th>news</th>\n",
              "      <th>Type</th>\n",
              "    </tr>\n",
              "  </thead>\n",
              "  <tbody>\n",
              "    <tr>\n",
              "      <th>1212</th>\n",
              "      <td>https://www.bbva.com/es/como-lograr-que-los-in...</td>\n",
              "      <td>En la vida de toda empresa emergente llega un ...</td>\n",
              "      <td>Innovacion</td>\n",
              "    </tr>\n",
              "    <tr>\n",
              "      <th>1213</th>\n",
              "      <td>https://www.bbva.com/es/podcast-como-nos-afect...</td>\n",
              "      <td>La espiral alcista de los precios continúa y g...</td>\n",
              "      <td>Macroeconomia</td>\n",
              "    </tr>\n",
              "    <tr>\n",
              "      <th>1214</th>\n",
              "      <td>https://www.larepublica.co/redirect/post/3253735</td>\n",
              "      <td>Las grandes derrotas nacionales son experienci...</td>\n",
              "      <td>Alianzas</td>\n",
              "    </tr>\n",
              "    <tr>\n",
              "      <th>1215</th>\n",
              "      <td>https://www.bbva.com/es/bbva-y-barcelona-healt...</td>\n",
              "      <td>BBVA ha alcanzado un acuerdo de colaboración c...</td>\n",
              "      <td>Innovacion</td>\n",
              "    </tr>\n",
              "    <tr>\n",
              "      <th>1216</th>\n",
              "      <td>https://www.larepublica.co/redirect/post/3263980</td>\n",
              "      <td>Casi entrando a la parte final de noviembre la...</td>\n",
              "      <td>Alianzas</td>\n",
              "    </tr>\n",
              "  </tbody>\n",
              "</table>\n",
              "</div>\n",
              "    <div class=\"colab-df-buttons\">\n",
              "\n",
              "  <div class=\"colab-df-container\">\n",
              "    <button class=\"colab-df-convert\" onclick=\"convertToInteractive('df-0287fc71-b428-418d-8014-6f1349f28a43')\"\n",
              "            title=\"Convert this dataframe to an interactive table.\"\n",
              "            style=\"display:none;\">\n",
              "\n",
              "  <svg xmlns=\"http://www.w3.org/2000/svg\" height=\"24px\" viewBox=\"0 -960 960 960\">\n",
              "    <path d=\"M120-120v-720h720v720H120Zm60-500h600v-160H180v160Zm220 220h160v-160H400v160Zm0 220h160v-160H400v160ZM180-400h160v-160H180v160Zm440 0h160v-160H620v160ZM180-180h160v-160H180v160Zm440 0h160v-160H620v160Z\"/>\n",
              "  </svg>\n",
              "    </button>\n",
              "\n",
              "  <style>\n",
              "    .colab-df-container {\n",
              "      display:flex;\n",
              "      gap: 12px;\n",
              "    }\n",
              "\n",
              "    .colab-df-convert {\n",
              "      background-color: #E8F0FE;\n",
              "      border: none;\n",
              "      border-radius: 50%;\n",
              "      cursor: pointer;\n",
              "      display: none;\n",
              "      fill: #1967D2;\n",
              "      height: 32px;\n",
              "      padding: 0 0 0 0;\n",
              "      width: 32px;\n",
              "    }\n",
              "\n",
              "    .colab-df-convert:hover {\n",
              "      background-color: #E2EBFA;\n",
              "      box-shadow: 0px 1px 2px rgba(60, 64, 67, 0.3), 0px 1px 3px 1px rgba(60, 64, 67, 0.15);\n",
              "      fill: #174EA6;\n",
              "    }\n",
              "\n",
              "    .colab-df-buttons div {\n",
              "      margin-bottom: 4px;\n",
              "    }\n",
              "\n",
              "    [theme=dark] .colab-df-convert {\n",
              "      background-color: #3B4455;\n",
              "      fill: #D2E3FC;\n",
              "    }\n",
              "\n",
              "    [theme=dark] .colab-df-convert:hover {\n",
              "      background-color: #434B5C;\n",
              "      box-shadow: 0px 1px 3px 1px rgba(0, 0, 0, 0.15);\n",
              "      filter: drop-shadow(0px 1px 2px rgba(0, 0, 0, 0.3));\n",
              "      fill: #FFFFFF;\n",
              "    }\n",
              "  </style>\n",
              "\n",
              "    <script>\n",
              "      const buttonEl =\n",
              "        document.querySelector('#df-0287fc71-b428-418d-8014-6f1349f28a43 button.colab-df-convert');\n",
              "      buttonEl.style.display =\n",
              "        google.colab.kernel.accessAllowed ? 'block' : 'none';\n",
              "\n",
              "      async function convertToInteractive(key) {\n",
              "        const element = document.querySelector('#df-0287fc71-b428-418d-8014-6f1349f28a43');\n",
              "        const dataTable =\n",
              "          await google.colab.kernel.invokeFunction('convertToInteractive',\n",
              "                                                    [key], {});\n",
              "        if (!dataTable) return;\n",
              "\n",
              "        const docLinkHtml = 'Like what you see? Visit the ' +\n",
              "          '<a target=\"_blank\" href=https://colab.research.google.com/notebooks/data_table.ipynb>data table notebook</a>'\n",
              "          + ' to learn more about interactive tables.';\n",
              "        element.innerHTML = '';\n",
              "        dataTable['output_type'] = 'display_data';\n",
              "        await google.colab.output.renderOutput(dataTable, element);\n",
              "        const docLink = document.createElement('div');\n",
              "        docLink.innerHTML = docLinkHtml;\n",
              "        element.appendChild(docLink);\n",
              "      }\n",
              "    </script>\n",
              "  </div>\n",
              "\n",
              "\n",
              "    <div id=\"df-4a2922ad-da49-479f-aca2-14ffdfdcf04e\">\n",
              "      <button class=\"colab-df-quickchart\" onclick=\"quickchart('df-4a2922ad-da49-479f-aca2-14ffdfdcf04e')\"\n",
              "                title=\"Suggest charts\"\n",
              "                style=\"display:none;\">\n",
              "\n",
              "<svg xmlns=\"http://www.w3.org/2000/svg\" height=\"24px\"viewBox=\"0 0 24 24\"\n",
              "     width=\"24px\">\n",
              "    <g>\n",
              "        <path d=\"M19 3H5c-1.1 0-2 .9-2 2v14c0 1.1.9 2 2 2h14c1.1 0 2-.9 2-2V5c0-1.1-.9-2-2-2zM9 17H7v-7h2v7zm4 0h-2V7h2v10zm4 0h-2v-4h2v4z\"/>\n",
              "    </g>\n",
              "</svg>\n",
              "      </button>\n",
              "\n",
              "<style>\n",
              "  .colab-df-quickchart {\n",
              "      --bg-color: #E8F0FE;\n",
              "      --fill-color: #1967D2;\n",
              "      --hover-bg-color: #E2EBFA;\n",
              "      --hover-fill-color: #174EA6;\n",
              "      --disabled-fill-color: #AAA;\n",
              "      --disabled-bg-color: #DDD;\n",
              "  }\n",
              "\n",
              "  [theme=dark] .colab-df-quickchart {\n",
              "      --bg-color: #3B4455;\n",
              "      --fill-color: #D2E3FC;\n",
              "      --hover-bg-color: #434B5C;\n",
              "      --hover-fill-color: #FFFFFF;\n",
              "      --disabled-bg-color: #3B4455;\n",
              "      --disabled-fill-color: #666;\n",
              "  }\n",
              "\n",
              "  .colab-df-quickchart {\n",
              "    background-color: var(--bg-color);\n",
              "    border: none;\n",
              "    border-radius: 50%;\n",
              "    cursor: pointer;\n",
              "    display: none;\n",
              "    fill: var(--fill-color);\n",
              "    height: 32px;\n",
              "    padding: 0;\n",
              "    width: 32px;\n",
              "  }\n",
              "\n",
              "  .colab-df-quickchart:hover {\n",
              "    background-color: var(--hover-bg-color);\n",
              "    box-shadow: 0 1px 2px rgba(60, 64, 67, 0.3), 0 1px 3px 1px rgba(60, 64, 67, 0.15);\n",
              "    fill: var(--button-hover-fill-color);\n",
              "  }\n",
              "\n",
              "  .colab-df-quickchart-complete:disabled,\n",
              "  .colab-df-quickchart-complete:disabled:hover {\n",
              "    background-color: var(--disabled-bg-color);\n",
              "    fill: var(--disabled-fill-color);\n",
              "    box-shadow: none;\n",
              "  }\n",
              "\n",
              "  .colab-df-spinner {\n",
              "    border: 2px solid var(--fill-color);\n",
              "    border-color: transparent;\n",
              "    border-bottom-color: var(--fill-color);\n",
              "    animation:\n",
              "      spin 1s steps(1) infinite;\n",
              "  }\n",
              "\n",
              "  @keyframes spin {\n",
              "    0% {\n",
              "      border-color: transparent;\n",
              "      border-bottom-color: var(--fill-color);\n",
              "      border-left-color: var(--fill-color);\n",
              "    }\n",
              "    20% {\n",
              "      border-color: transparent;\n",
              "      border-left-color: var(--fill-color);\n",
              "      border-top-color: var(--fill-color);\n",
              "    }\n",
              "    30% {\n",
              "      border-color: transparent;\n",
              "      border-left-color: var(--fill-color);\n",
              "      border-top-color: var(--fill-color);\n",
              "      border-right-color: var(--fill-color);\n",
              "    }\n",
              "    40% {\n",
              "      border-color: transparent;\n",
              "      border-right-color: var(--fill-color);\n",
              "      border-top-color: var(--fill-color);\n",
              "    }\n",
              "    60% {\n",
              "      border-color: transparent;\n",
              "      border-right-color: var(--fill-color);\n",
              "    }\n",
              "    80% {\n",
              "      border-color: transparent;\n",
              "      border-right-color: var(--fill-color);\n",
              "      border-bottom-color: var(--fill-color);\n",
              "    }\n",
              "    90% {\n",
              "      border-color: transparent;\n",
              "      border-bottom-color: var(--fill-color);\n",
              "    }\n",
              "  }\n",
              "</style>\n",
              "\n",
              "      <script>\n",
              "        async function quickchart(key) {\n",
              "          const quickchartButtonEl =\n",
              "            document.querySelector('#' + key + ' button');\n",
              "          quickchartButtonEl.disabled = true;  // To prevent multiple clicks.\n",
              "          quickchartButtonEl.classList.add('colab-df-spinner');\n",
              "          try {\n",
              "            const charts = await google.colab.kernel.invokeFunction(\n",
              "                'suggestCharts', [key], {});\n",
              "          } catch (error) {\n",
              "            console.error('Error during call to suggestCharts:', error);\n",
              "          }\n",
              "          quickchartButtonEl.classList.remove('colab-df-spinner');\n",
              "          quickchartButtonEl.classList.add('colab-df-quickchart-complete');\n",
              "        }\n",
              "        (() => {\n",
              "          let quickchartButtonEl =\n",
              "            document.querySelector('#df-4a2922ad-da49-479f-aca2-14ffdfdcf04e button');\n",
              "          quickchartButtonEl.style.display =\n",
              "            google.colab.kernel.accessAllowed ? 'block' : 'none';\n",
              "        })();\n",
              "      </script>\n",
              "    </div>\n",
              "\n",
              "    </div>\n",
              "  </div>\n"
            ],
            "application/vnd.google.colaboratory.intrinsic+json": {
              "type": "dataframe",
              "summary": "{\n  \"name\": \"df_total\",\n  \"rows\": 5,\n  \"fields\": [\n    {\n      \"column\": \"url\",\n      \"properties\": {\n        \"dtype\": \"string\",\n        \"num_unique_values\": 5,\n        \"samples\": [\n          \"https://www.bbva.com/es/podcast-como-nos-afecta-el-repunte-de-la-inflacion/\",\n          \"https://www.larepublica.co/redirect/post/3263980\",\n          \"https://www.larepublica.co/redirect/post/3253735\"\n        ],\n        \"semantic_type\": \"\",\n        \"description\": \"\"\n      }\n    },\n    {\n      \"column\": \"news\",\n      \"properties\": {\n        \"dtype\": \"string\",\n        \"num_unique_values\": 5,\n        \"samples\": [\n          \"La espiral alcista de los precios contin\\u00faa y genera cada vez m\\u00e1s nerviosismo. De hecho seg\\u00fan un estudio de la compa\\u00f1\\u00eda de investigaci\\u00f3n Ipsos en el pasado mes de abril la inflaci\\u00f3n se hab\\u00eda convertido ya en la principal causa de preocupaci\\u00f3n a nivel mundial. Y Espa\\u00f1a era el pa\\u00eds donde en mayor medida crec\\u00eda esta inquietud.Estamos asistiendo a una subida desorbitada de los precios que tiene ya un impacto claro en las econom\\u00edas familiares. Pero hasta d\\u00f3nde puede llegar la inflaci\\u00f3n Cu\\u00e1nto puede durar este proceso inflacionista C\\u00f3mo se puede gestionar C\\u00f3mo evolucionar\\u00e1n los tipos de inter\\u00e9s Cu\\u00e1l ser\\u00e1 el impacto en las rentas familiares Y en el crecimiento econ\\u00f3mico En este cap\\u00edtulo de Blink Miguel Cardoso economista jefe para Espa\\u00f1a de BBVA Research nos ayuda a resolver muchas de las dudas relacionadas con el repunte de la inflaci\\u00f3n y su impacto.Todos los cap\\u00edtulos deBBVA Podcastlos podr\\u00e1s encontrar en las siguientes plataformasiVooxApple PodcastSpotifyGoogle Podcasty enbbva.com.\",\n          \"Casi entrando a la parte final de noviembre la \\u00e9poca hace recordar que el pen\\u00faltimo mes del a\\u00f1o acostumbra a estar cargado de los lanzamientos globales de colecciones de diferentes casas de moda. Pero puntualmente las de 2021 qu\\u00e9 tienen en com\\u00fan.Una forma simple de resumir esto es el concepto futurista que est\\u00e1n incluyendo conglomerados como Lvmh Mo\\u00ebt Hennessy quienes la semana pasada con sus marcas Louis Vuitton Givenchy o Dior anunciaron que un fuerte porcentaje de sus prendas estar\\u00e1 dedicado a la persona que necesita combinar comodidad en su trabajo o un lugar de ocio lo mismo en Ralph Lauren que sus nuevos trajes masculinos son un llamado a la formalidad pero desde estilos como las cl\\u00e1sicas y vers\\u00e1tiles sudaderas.En Colombia algo que llama la atenci\\u00f3n es que dise\\u00f1adores y creativos le est\\u00e1n apostando a ese estilo futurista o colorido pero es un reto que los consumidores mayores de 25 a\\u00f1os pasen en sus trabajos de tonos opacos a unos m\\u00e1s vivos o de telas comunes de trajes a hilos suaves como los que son protagonistas en hoodies.Pero lo cierto es que la moda va para all\\u00e1 y en alg\\u00fan momento hasta los m\\u00e1s conservadores terminar\\u00e1n llegando con prendas coloridas a sus espacios de trabajo algo que incluso recuerda c\\u00f3mo las personas hasta visten tecnolog\\u00eda.Por eso resalta el trabajo de la colecci\\u00f3n de Do Over Lab con Lisa S\\u00e1nchez y Carolina Osorio Balvin ambas lanzaron una colaboraci\\u00f3n con Samsung para promover el Galaxy Z Flip  Galaxy Z Fold. Aunque es una muestra que el mundo tech se est\\u00e1 sumando m\\u00e1s a los estilos al momento de vestir para las creativas es una propuesta de edici\\u00f3n limitada que refleja que hay prendas que se pueden usar en todo momento que proponen ser disruptivos arriesgados sin g\\u00e9nero nos inspiramos en que as\\u00ed como Samsung es muy futurista las personas tambi\\u00e9n lo pueden ser al momento de elegir qu\\u00e9 ponerse si importar el d\\u00eda o la ocasi\\u00f3n dijo S\\u00e1nchez.La marca que naci\\u00f3 en 2017 que incluso muestra c\\u00f3mo es el nacimiento de emprendimientos que comienzan en plataformas como Instagram poco a poco es el reflejo de que el consumo de textiles est\\u00e1 cambiando y eso es lo que Do Over Lab pretende al pasar por el apoyo de marcas como la coreana que quieren enviar un mensaje de que el mundo est\\u00e1 exigiendo unas nuevas tendencias al momento de elegir tecnolog\\u00eda y moda.\",\n          \"Las grandes derrotas nacionales son experiencias traum\\u00e1ticas que dejan heridas en la mentalidad colectiva. Estas toman tiempo para cicatrizar. Sus consecuencias tienen repercusiones que afectan las relaciones internacionales. En algunos casos la magnitud del rev\\u00e9s sufrido conduce a cambios de comportamiento y a transformaciones constructivas. Ejemplos notables de reacciones positivas a la adversidad son las trayectorias de Alemania y de Jap\\u00f3n con posterioridad a la Segunda Guerra Mundial. El estadista franc\\u00e9s Jean Monnet considerado como el padre de la unificaci\\u00f3n europea concluy\\u00f3 que era indispensable dise\\u00f1ar un entorno internacional que garantizara que Francia y Alemania jam\\u00e1s volver\\u00edan a enfrentarse militarmente.Esa es la idea fuerza que dio lugar a la firma del Tratado de Roma a la creaci\\u00f3n del Mercado Com\\u00fan Europeo la Comunidad Econ\\u00f3mica Europea y luego la Uni\\u00f3n Europea. El Reino Unido se abstuvo de suscribir el Tratado de Roma. Ingres\\u00f3 posteriormente a la Comunidad Econ\\u00f3mica Europea pero mantuvo reservas acerca de las implicaciones pol\\u00edticas del proceso de unificaci\\u00f3n europea.Las reacciones a la adversidad tambi\\u00e9n pueden tomar la forma de resentimientos duraderos. Los rencores que guardan Rusia y la China est\\u00e1n teniendo consecuencias de actualidad. La actitud de desconfianza respecto a Occidente del gobierno ruso tiene explicaciones hist\\u00f3ricas la invasi\\u00f3n napole\\u00f3nica en 1812 y la del ej\\u00e9rcito alem\\u00e1n en 1941. Para Vladimir Putin la disoluci\\u00f3n de la Uni\\u00f3n Sovi\\u00e9tica en 1991 represent\\u00f3 un retroceso geopol\\u00edtico may\\u00fasculo.Si bien ese evento fue el resultado de factores dom\\u00e9sticos la consolidaci\\u00f3n de la Uni\\u00f3n Europea y la expansi\\u00f3n de la Otan condicionan la animadversi\\u00f3n de Putin hacia Estados Unidos y la Rep\\u00fablica Federal Alemana. Esta actitud sirve de contexto para las intervenciones cibern\\u00e9ticas rusas en los procesos electorales de las naciones occidentales y pone de presente la capacidad de las autoridades rusas de utilizar el suministro oportuno de gas como una forma de ejercer presi\\u00f3n pol\\u00edtica sobre el gobierno alem\\u00e1n. Esa vulnerabilidad a\\u00f1adida al tratamiento inamistoso recibido durante la administraci\\u00f3n Trump as\\u00ed como la creciente presi\\u00f3n econ\\u00f3mica de la China han servido como incentivos para impulsar el fortalecimiento de la Uni\\u00f3n Europea.El presidente Xi Jinping le est\\u00e1 imprimiendo a la pol\\u00edtica exterior de la Rep\\u00fablica Popular China un sello de nacionalismo agresivo que se manifiesta en pronunciamientos hostiles hacia Occidente y sus valores y en despliegues de poder\\u00edo militar. Esa actitud contrasta con la postura mesurada que recomendaba su antecesor Deng Xiaoping 19781983. En parte esto puede atribuirse al comportamiento de una gran potencia emergente que desea modificar las relaciones de poder existentes frente a sus rivales. Pero tambi\\u00e9n obedece al recuerdo de las concesiones extraterritoriales que las potencias occidentales le impusieron al d\\u00e9bil Imperio Chino en el siglo XIX. La aceptaci\\u00f3n de Hong Kong como un enclave colonial brit\\u00e1nico hasta 1997 es un ejemplo de esa humillaci\\u00f3n y del recuerdo de los tratados inequitativos. Seguir enfatizando esos resentimientos hist\\u00f3ricos al tiempo que se intensifican las actitudes belicosas en el Estrecho de Taiw\\u00e1n conlleva el riesgo de desencadenar un conflicto internacional.\"\n        ],\n        \"semantic_type\": \"\",\n        \"description\": \"\"\n      }\n    },\n    {\n      \"column\": \"Type\",\n      \"properties\": {\n        \"dtype\": \"string\",\n        \"num_unique_values\": 3,\n        \"samples\": [\n          \"Innovacion\",\n          \"Macroeconomia\",\n          \"Alianzas\"\n        ],\n        \"semantic_type\": \"\",\n        \"description\": \"\"\n      }\n    }\n  ]\n}"
            }
          },
          "metadata": {},
          "execution_count": 32
        }
      ]
    },
    {
      "cell_type": "code",
      "metadata": {
        "source_hash": null,
        "execution_start": 1718408571022,
        "execution_millis": 90,
        "deepnote_to_be_reexecuted": false,
        "cell_id": "9ee204a5b9534b208aad59f01812673f",
        "deepnote_cell_type": "code",
        "id": "B91aemOHhZbo",
        "outputId": "6f6d1911-e1b9-4fca-e955-9f56e26c7c9b",
        "colab": {
          "base_uri": "https://localhost:8080/",
          "height": 206
        }
      },
      "source": [
        "df_total.head()"
      ],
      "execution_count": 33,
      "outputs": [
        {
          "output_type": "execute_result",
          "data": {
            "text/plain": [
              "                                                url  \\\n",
              "0  https://www.larepublica.co/redirect/post/3201905   \n",
              "1  https://www.larepublica.co/redirect/post/3210288   \n",
              "2  https://www.larepublica.co/redirect/post/3240676   \n",
              "3  https://www.larepublica.co/redirect/post/3342889   \n",
              "4  https://www.larepublica.co/redirect/post/3427208   \n",
              "\n",
              "                                                news           Type  \n",
              "0  Durante el foro La banca articulador empresari...           Otra  \n",
              "1  El regulador de valores de China dijo el domin...   Regulaciones  \n",
              "2  En una industria históricamente masculina como...       Alianzas  \n",
              "3  Con el dato de marzo el IPC interanual encaden...  Macroeconomia  \n",
              "4  Ayer en Cartagena se dio inicio a la versión n...           Otra  "
            ],
            "text/html": [
              "\n",
              "  <div id=\"df-1481605b-09f5-4f2f-8d4a-67c0045ec2d4\" class=\"colab-df-container\">\n",
              "    <div>\n",
              "<style scoped>\n",
              "    .dataframe tbody tr th:only-of-type {\n",
              "        vertical-align: middle;\n",
              "    }\n",
              "\n",
              "    .dataframe tbody tr th {\n",
              "        vertical-align: top;\n",
              "    }\n",
              "\n",
              "    .dataframe thead th {\n",
              "        text-align: right;\n",
              "    }\n",
              "</style>\n",
              "<table border=\"1\" class=\"dataframe\">\n",
              "  <thead>\n",
              "    <tr style=\"text-align: right;\">\n",
              "      <th></th>\n",
              "      <th>url</th>\n",
              "      <th>news</th>\n",
              "      <th>Type</th>\n",
              "    </tr>\n",
              "  </thead>\n",
              "  <tbody>\n",
              "    <tr>\n",
              "      <th>0</th>\n",
              "      <td>https://www.larepublica.co/redirect/post/3201905</td>\n",
              "      <td>Durante el foro La banca articulador empresari...</td>\n",
              "      <td>Otra</td>\n",
              "    </tr>\n",
              "    <tr>\n",
              "      <th>1</th>\n",
              "      <td>https://www.larepublica.co/redirect/post/3210288</td>\n",
              "      <td>El regulador de valores de China dijo el domin...</td>\n",
              "      <td>Regulaciones</td>\n",
              "    </tr>\n",
              "    <tr>\n",
              "      <th>2</th>\n",
              "      <td>https://www.larepublica.co/redirect/post/3240676</td>\n",
              "      <td>En una industria históricamente masculina como...</td>\n",
              "      <td>Alianzas</td>\n",
              "    </tr>\n",
              "    <tr>\n",
              "      <th>3</th>\n",
              "      <td>https://www.larepublica.co/redirect/post/3342889</td>\n",
              "      <td>Con el dato de marzo el IPC interanual encaden...</td>\n",
              "      <td>Macroeconomia</td>\n",
              "    </tr>\n",
              "    <tr>\n",
              "      <th>4</th>\n",
              "      <td>https://www.larepublica.co/redirect/post/3427208</td>\n",
              "      <td>Ayer en Cartagena se dio inicio a la versión n...</td>\n",
              "      <td>Otra</td>\n",
              "    </tr>\n",
              "  </tbody>\n",
              "</table>\n",
              "</div>\n",
              "    <div class=\"colab-df-buttons\">\n",
              "\n",
              "  <div class=\"colab-df-container\">\n",
              "    <button class=\"colab-df-convert\" onclick=\"convertToInteractive('df-1481605b-09f5-4f2f-8d4a-67c0045ec2d4')\"\n",
              "            title=\"Convert this dataframe to an interactive table.\"\n",
              "            style=\"display:none;\">\n",
              "\n",
              "  <svg xmlns=\"http://www.w3.org/2000/svg\" height=\"24px\" viewBox=\"0 -960 960 960\">\n",
              "    <path d=\"M120-120v-720h720v720H120Zm60-500h600v-160H180v160Zm220 220h160v-160H400v160Zm0 220h160v-160H400v160ZM180-400h160v-160H180v160Zm440 0h160v-160H620v160ZM180-180h160v-160H180v160Zm440 0h160v-160H620v160Z\"/>\n",
              "  </svg>\n",
              "    </button>\n",
              "\n",
              "  <style>\n",
              "    .colab-df-container {\n",
              "      display:flex;\n",
              "      gap: 12px;\n",
              "    }\n",
              "\n",
              "    .colab-df-convert {\n",
              "      background-color: #E8F0FE;\n",
              "      border: none;\n",
              "      border-radius: 50%;\n",
              "      cursor: pointer;\n",
              "      display: none;\n",
              "      fill: #1967D2;\n",
              "      height: 32px;\n",
              "      padding: 0 0 0 0;\n",
              "      width: 32px;\n",
              "    }\n",
              "\n",
              "    .colab-df-convert:hover {\n",
              "      background-color: #E2EBFA;\n",
              "      box-shadow: 0px 1px 2px rgba(60, 64, 67, 0.3), 0px 1px 3px 1px rgba(60, 64, 67, 0.15);\n",
              "      fill: #174EA6;\n",
              "    }\n",
              "\n",
              "    .colab-df-buttons div {\n",
              "      margin-bottom: 4px;\n",
              "    }\n",
              "\n",
              "    [theme=dark] .colab-df-convert {\n",
              "      background-color: #3B4455;\n",
              "      fill: #D2E3FC;\n",
              "    }\n",
              "\n",
              "    [theme=dark] .colab-df-convert:hover {\n",
              "      background-color: #434B5C;\n",
              "      box-shadow: 0px 1px 3px 1px rgba(0, 0, 0, 0.15);\n",
              "      filter: drop-shadow(0px 1px 2px rgba(0, 0, 0, 0.3));\n",
              "      fill: #FFFFFF;\n",
              "    }\n",
              "  </style>\n",
              "\n",
              "    <script>\n",
              "      const buttonEl =\n",
              "        document.querySelector('#df-1481605b-09f5-4f2f-8d4a-67c0045ec2d4 button.colab-df-convert');\n",
              "      buttonEl.style.display =\n",
              "        google.colab.kernel.accessAllowed ? 'block' : 'none';\n",
              "\n",
              "      async function convertToInteractive(key) {\n",
              "        const element = document.querySelector('#df-1481605b-09f5-4f2f-8d4a-67c0045ec2d4');\n",
              "        const dataTable =\n",
              "          await google.colab.kernel.invokeFunction('convertToInteractive',\n",
              "                                                    [key], {});\n",
              "        if (!dataTable) return;\n",
              "\n",
              "        const docLinkHtml = 'Like what you see? Visit the ' +\n",
              "          '<a target=\"_blank\" href=https://colab.research.google.com/notebooks/data_table.ipynb>data table notebook</a>'\n",
              "          + ' to learn more about interactive tables.';\n",
              "        element.innerHTML = '';\n",
              "        dataTable['output_type'] = 'display_data';\n",
              "        await google.colab.output.renderOutput(dataTable, element);\n",
              "        const docLink = document.createElement('div');\n",
              "        docLink.innerHTML = docLinkHtml;\n",
              "        element.appendChild(docLink);\n",
              "      }\n",
              "    </script>\n",
              "  </div>\n",
              "\n",
              "\n",
              "    <div id=\"df-0bbdeb6e-053f-4d7d-a825-2efaed6afe59\">\n",
              "      <button class=\"colab-df-quickchart\" onclick=\"quickchart('df-0bbdeb6e-053f-4d7d-a825-2efaed6afe59')\"\n",
              "                title=\"Suggest charts\"\n",
              "                style=\"display:none;\">\n",
              "\n",
              "<svg xmlns=\"http://www.w3.org/2000/svg\" height=\"24px\"viewBox=\"0 0 24 24\"\n",
              "     width=\"24px\">\n",
              "    <g>\n",
              "        <path d=\"M19 3H5c-1.1 0-2 .9-2 2v14c0 1.1.9 2 2 2h14c1.1 0 2-.9 2-2V5c0-1.1-.9-2-2-2zM9 17H7v-7h2v7zm4 0h-2V7h2v10zm4 0h-2v-4h2v4z\"/>\n",
              "    </g>\n",
              "</svg>\n",
              "      </button>\n",
              "\n",
              "<style>\n",
              "  .colab-df-quickchart {\n",
              "      --bg-color: #E8F0FE;\n",
              "      --fill-color: #1967D2;\n",
              "      --hover-bg-color: #E2EBFA;\n",
              "      --hover-fill-color: #174EA6;\n",
              "      --disabled-fill-color: #AAA;\n",
              "      --disabled-bg-color: #DDD;\n",
              "  }\n",
              "\n",
              "  [theme=dark] .colab-df-quickchart {\n",
              "      --bg-color: #3B4455;\n",
              "      --fill-color: #D2E3FC;\n",
              "      --hover-bg-color: #434B5C;\n",
              "      --hover-fill-color: #FFFFFF;\n",
              "      --disabled-bg-color: #3B4455;\n",
              "      --disabled-fill-color: #666;\n",
              "  }\n",
              "\n",
              "  .colab-df-quickchart {\n",
              "    background-color: var(--bg-color);\n",
              "    border: none;\n",
              "    border-radius: 50%;\n",
              "    cursor: pointer;\n",
              "    display: none;\n",
              "    fill: var(--fill-color);\n",
              "    height: 32px;\n",
              "    padding: 0;\n",
              "    width: 32px;\n",
              "  }\n",
              "\n",
              "  .colab-df-quickchart:hover {\n",
              "    background-color: var(--hover-bg-color);\n",
              "    box-shadow: 0 1px 2px rgba(60, 64, 67, 0.3), 0 1px 3px 1px rgba(60, 64, 67, 0.15);\n",
              "    fill: var(--button-hover-fill-color);\n",
              "  }\n",
              "\n",
              "  .colab-df-quickchart-complete:disabled,\n",
              "  .colab-df-quickchart-complete:disabled:hover {\n",
              "    background-color: var(--disabled-bg-color);\n",
              "    fill: var(--disabled-fill-color);\n",
              "    box-shadow: none;\n",
              "  }\n",
              "\n",
              "  .colab-df-spinner {\n",
              "    border: 2px solid var(--fill-color);\n",
              "    border-color: transparent;\n",
              "    border-bottom-color: var(--fill-color);\n",
              "    animation:\n",
              "      spin 1s steps(1) infinite;\n",
              "  }\n",
              "\n",
              "  @keyframes spin {\n",
              "    0% {\n",
              "      border-color: transparent;\n",
              "      border-bottom-color: var(--fill-color);\n",
              "      border-left-color: var(--fill-color);\n",
              "    }\n",
              "    20% {\n",
              "      border-color: transparent;\n",
              "      border-left-color: var(--fill-color);\n",
              "      border-top-color: var(--fill-color);\n",
              "    }\n",
              "    30% {\n",
              "      border-color: transparent;\n",
              "      border-left-color: var(--fill-color);\n",
              "      border-top-color: var(--fill-color);\n",
              "      border-right-color: var(--fill-color);\n",
              "    }\n",
              "    40% {\n",
              "      border-color: transparent;\n",
              "      border-right-color: var(--fill-color);\n",
              "      border-top-color: var(--fill-color);\n",
              "    }\n",
              "    60% {\n",
              "      border-color: transparent;\n",
              "      border-right-color: var(--fill-color);\n",
              "    }\n",
              "    80% {\n",
              "      border-color: transparent;\n",
              "      border-right-color: var(--fill-color);\n",
              "      border-bottom-color: var(--fill-color);\n",
              "    }\n",
              "    90% {\n",
              "      border-color: transparent;\n",
              "      border-bottom-color: var(--fill-color);\n",
              "    }\n",
              "  }\n",
              "</style>\n",
              "\n",
              "      <script>\n",
              "        async function quickchart(key) {\n",
              "          const quickchartButtonEl =\n",
              "            document.querySelector('#' + key + ' button');\n",
              "          quickchartButtonEl.disabled = true;  // To prevent multiple clicks.\n",
              "          quickchartButtonEl.classList.add('colab-df-spinner');\n",
              "          try {\n",
              "            const charts = await google.colab.kernel.invokeFunction(\n",
              "                'suggestCharts', [key], {});\n",
              "          } catch (error) {\n",
              "            console.error('Error during call to suggestCharts:', error);\n",
              "          }\n",
              "          quickchartButtonEl.classList.remove('colab-df-spinner');\n",
              "          quickchartButtonEl.classList.add('colab-df-quickchart-complete');\n",
              "        }\n",
              "        (() => {\n",
              "          let quickchartButtonEl =\n",
              "            document.querySelector('#df-0bbdeb6e-053f-4d7d-a825-2efaed6afe59 button');\n",
              "          quickchartButtonEl.style.display =\n",
              "            google.colab.kernel.accessAllowed ? 'block' : 'none';\n",
              "        })();\n",
              "      </script>\n",
              "    </div>\n",
              "\n",
              "    </div>\n",
              "  </div>\n"
            ],
            "application/vnd.google.colaboratory.intrinsic+json": {
              "type": "dataframe",
              "variable_name": "df_total",
              "summary": "{\n  \"name\": \"df_total\",\n  \"rows\": 1217,\n  \"fields\": [\n    {\n      \"column\": \"url\",\n      \"properties\": {\n        \"dtype\": \"string\",\n        \"num_unique_values\": 1101,\n        \"samples\": [\n          \"https://www.bbva.com/es/sostenibilidad/por-la-tierra-por-el-mundo-por-todos-un-dia-y-una-sola-tierra/\",\n          \"https://www.larepublica.co/redirect/post/3307565\",\n          \"https://www.bbva.com/es/ar/bbva-ofrece-una-amplia-variedad-de-productos-y-servicios-agropecuarios-en-expoagro/\"\n        ],\n        \"semantic_type\": \"\",\n        \"description\": \"\"\n      }\n    },\n    {\n      \"column\": \"news\",\n      \"properties\": {\n        \"dtype\": \"string\",\n        \"num_unique_values\": 1137,\n        \"samples\": [\n          \"Se anunci\\u00f3 una alianza estrat\\u00e9gica entre la fintech de soluciones financieras Omni Latam y JP Morgan para crear una plataforma que brinde soluciones financieras digitales para grandes empresas y pyme garantiz\\u00e1ndoles liquidez y acceso a capital de trabajo.La iniciativa busca proteger la cadena de suministro de los compradores frente a cualquier necesidad crediticia y desajuste de financiaci\\u00f3n. Se asegurar\\u00e1 que los proveedores tengan acceso a un programa de pagos anticipados de facturas.Con esta alianza combinamos las s\\u00f3lidas capacidades financieras de J.P. Morgan en Am\\u00e9rica Latina y la innovaci\\u00f3n tecnol\\u00f3gica de Omni Latam al servicio de las empresas proporcionando alternativas hechas a la medida de nuestros clientes que se adaptan tanto a compradores como a proveedores. El objetivo es facilitar el acceso al capital de trabajo adicional que necesitan para escalar sus negocios mejorando la estabilidad de la cadena de suministro as\\u00ed como su relaci\\u00f3n y reputaci\\u00f3n en el mercado dijo Diego Caicedo CEO  Cofundador de Omni Latam.Se espera que el acuerdo acelere la participaci\\u00f3n de JP Morgan en la regi\\u00f3n. La compa\\u00f1\\u00eda ya procesa cerca de 40 millones de transacciones diarias siendo el principal liquidador de d\\u00f3lares del mundo.Buscamos solventar las necesidades de los empresarios latinoamericanos por medio de soluciones de financiaci\\u00f3n de la cadena de suministro. Creemos que somos los mejor posicionados para atender esas necesidades de la mano de Omni Latam dijo Ignacio Munoz De Cote director de pagos para Latinoam\\u00e9rica en JP Morgan.\",\n          \"\\u00bfSon los filtros del agua realmente necesarios donde el acceso al agua potable est\\u00e1 garantizado? \\u00bfTienen beneficios para la salud y el medioambiente? Mientras en lugares sin agua potable, los filtros pueden significar una aut\\u00e9ntica revoluci\\u00f3n; en los hogares con agua de grifo potable, hay que tener en cuenta para qu\\u00e9 vas a utilizar las distintas tecnolog\\u00edas de filtrado. Importante: los filtros ayudan a solucionar el desaf\\u00edo del agua embotellada en pl\\u00e1stico, lo que contribuye con la sostenibilidad.\\nTres \\u00e1tomos forman una mol\\u00e9cula sencilla. Dos hidr\\u00f3genos y un ox\\u00edgeno est\\u00e1n en la base de la revoluci\\u00f3n de la vida en nuestro planeta. Sin el agua no existir\\u00eda nada de lo que conocemos. Y, sin embargo, cuando abrimos el grifo y la dejamos correr no pensamos en esto. Lo damos por sentado, a pesar de que se trata de un bien m\\u00e1s escaso y con m\\u00e1s amenazas de lo que podr\\u00edamos pensar.\\nEn el mundo, hoy, la mayor\\u00eda de las personas tienen acceso a agua potable. Sin embargo, seg\\u00fan la Organizaci\\u00f3n Mundial de la Salud, m\\u00e1s de 2000 millones de habitantes consumen a diario agua que tiene el potencial de estar contaminada. La diferencia, en la mayor\\u00eda de los casos, la marca la presencia de sistemas de filtrado, depuraci\\u00f3n y potabilizaci\\u00f3n industriales, as\\u00ed como controles que aseguran que beberla no implica riesgos para la salud.\\nAdem\\u00e1s, siempre existe la posibilidad de instalar purificadores de agua a nivel dom\\u00e9stico. Pero \\u00bfson realmente necesarios en aquellos lugares donde el acceso al agua potable est\\u00e1 garantizado? \\u00bfQu\\u00e9 tipos existen y c\\u00f3mo funcionan? \\u00bfTienen realmente beneficios para la salud y el medioambiente?\\nAgua limpia y saneamiento\\nDurante tres d\\u00edas, diversos distritos de Lima y el Callao tendr\\u00e1n el servicio de agua restringido. Debido a este escenario, los peruanos tienen la oportunidad de reflexionar sobre los cuidados que se le debe dar al agua. A continuaci\\u00f3n, algunos consejos sobre qu\\u00e9 se debe hacer para ahorrarla y qu\\u00e9 trucos hay seguir cuando no se cuenta con muchas reservas.\\n\\u201cLa variedad de part\\u00edculas que pueden ser encontradas dentro del agua de grifo es muy grande. Dependiendo de cada regi\\u00f3n e incluso dentro de la misma provincia puede cambiar notablemente, ya que los acu\\u00edferos y los procesos de tratamiento y transporte son distintos\\u201d, explica Alex Dakov, responsable de la ONG Oceanic Global y CEO de Agua NEA y Green Motive. Lo que s\\u00ed est\\u00e1 claro es que lo que habitualmente llamamos agua es mucho m\\u00e1s que hidr\\u00f3geno y ox\\u00edgeno.\\nEn estado natural, el agua contiene microorganismos y multitud de part\\u00edculas en suspensi\\u00f3n y elementos qu\\u00edmicos disueltos que recoge de su entorno. A ellos se han sumado los micropl\\u00e1sticos, aunque su impacto en la salud todav\\u00eda no se ha logrado determinar. En los pa\\u00edses en los que el acceso al agua potable est\\u00e1 garantizado, se llevan a cabo una serie de procesos de filtrado y desinfecci\\u00f3n para garantizar que la mayor\\u00eda de estos elementos no acabe siendo ingerida. Aun as\\u00ed, existen otras razones por las que se puede querer instalar un filtro en casa.\\n\\u201cCuando hablamos de agua, muchas veces influye un criterio por encima de otros: la percepci\\u00f3n del sabor. Un criterio totalmente subjetivo que cada persona siente o aplica de manera diferente\\u201d, a\\u00f1ade Dakov. \\u201cLas tecnolog\\u00edas de filtrado ayudan a modificar esa percepci\\u00f3n, y por tanto pueden ayudar a beber agua del grifo, pese a no ser necesario desde un punto de vista qu\\u00edmico\\u201d.\\nLa cosa cambia si hablamos de lugares en los que el agua corriente no es potable o ni siquiera existe tal red de agua corriente. Aqu\\u00ed, un filtro puede marcar un antes y un despu\\u00e9s, aunque garantizar la potabilidad, desde un punto de vista qu\\u00edmico y biol\\u00f3gico, es m\\u00e1s complejo que instalar un sistema de filtrado. \\u201cPara muchas comunidades donde el acceso al agua potable es complicado, un filtro puede ser una aut\\u00e9ntica revoluci\\u00f3n. Puede facilitar el acceso a una fuente de vida b\\u00e1sica para el ser humano de una manera econ\\u00f3mica y universal\\u201d, subraya el responsable de Oceanic Global.\\nGesti\\u00f3n del Agua\\nEl agua es un elemento imprescindible para el d\\u00eda a d\\u00eda a cuyo consumo no se le presta la debida atenci\\u00f3n \\u2013salvo en los cada vez m\\u00e1s frecuentes momentos de sequ\\u00eda\\u2013 debido a que su acceso y precio son a\\u00fan muy asequibles para el servicio que presta. El aumento de la concienciaci\\u00f3n ecol\\u00f3gica que se vive de unos a\\u00f1os a esta parte no es, sin embargo, todav\\u00eda suficiente para que los h\\u00e1bitos de los ciudadanos se hayan adecuado a las crecientes necesidades de ahorro de agua que demandan los tiempos que corren. De ah\\u00ed que sea muy oportuno revisar una serie de consejos para controlar la utilizaci\\u00f3n del l\\u00edquido elemento.\\nLos filtros de agua para el hogar han ganado en variedad y eficiencia en los \\u00faltimos a\\u00f1os. Van desde sistemas sencillos para eliminar olores o sabores hasta unidades de desinfecci\\u00f3n o de desmineralizaci\\u00f3n. Estas son las principales tecnolog\\u00edas de filtrado disponibles para uso dom\\u00e9stico en la actualidad, seg\\u00fan el Centro para el Control y la Prevenci\\u00f3n de Enfermedades (CDC) de Estados Unidos.\\nPara elegir filtro, debemos tener en cuenta el tipo de agua de nuestra zona y el prop\\u00f3sito que vamos a darle al agua filtrada. \\u201cCada filtro tiene un uso y unas caracter\\u00edsticas; y no tenerlo en cuenta puede dar lugar a una modificaci\\u00f3n negativa para el agua que se bebe. Por ejemplo, no cambiar un filtro de carbono cuando corresponde, puede acabar contaminando el agua que se est\\u00e1 bebiendo\\u201d, explica Alex Dakov.\\nCada a\\u00f1o generamos m\\u00e1s de 300 millones de toneladas de residuos pl\\u00e1sticos en todo el mundo. La mayor\\u00eda no se recicla (m\\u00e1s de un 80 %) y unos ocho millones de toneladas acaban en los oc\\u00e9anos, seg\\u00fan datos de la agencia medioambiental de la ONU. Cada a\\u00f1o, se producen cerca de 500.000 millones de botellas pl\\u00e1sticas para agua y otras bebidas, la mayor\\u00eda de las cuales acaban en nuestro entorno como basura. En entidades financieras como BBVA, el pl\\u00e1stico es una especie en extinci\\u00f3n.\\nAgua limpia y saneamiento\\nA Rosa Ancco todav\\u00eda le sorprende o\\u00edr en su casa el sonido del agua corriendo. La costumbre no le deja olvidar que hasta hace poco ba\\u00f1aba a sus hijos con botellas de agua caliente. No ha tenido una vida f\\u00e1cil, pero su deseo de darle a su familia un techo digno bajo el que vivir y el apoyo de la Fundaci\\u00f3n Microfinanzas BBVA han sido suficientes para conseguirlo.\\nEl problema de los pl\\u00e1sticos es complejo y atiende a muchas causas, pero la falta de acceso a agua potable es una de ellas. Seg\\u00fan el \\u00faltimo informe de Ocean Panel, mejorar la gesti\\u00f3n del agua y el saneamiento en el mundo es una de las principales l\\u00edneas de acci\\u00f3n para reducir la contaminaci\\u00f3n pl\\u00e1stica (y mejorar la salud global).\\n\\u201cUna de las mayores ventajas que tiene el agua del grifo es que reduce el impacto medioambiental que genera el agua embotellada\\u201d, subraya el CEO de Agua NEA.\\u00a0\\u201cNo solo por la incesante producci\\u00f3n de pl\\u00e1sticos que supone la fabricaci\\u00f3n de las botellas o garrafas, se estima que en el mundo se abren m\\u00e1s de un mill\\u00f3n de botellas de pl\\u00e1stico cada minuto, sino tambi\\u00e9n por los costes medioambientales de su transporte\\u201d.\\nEn este sentido, los filtros de agua y, sobre todo, los aplicados para mejorar la red de agua potable de localidades que dependen en gran medida del agua embotellada, pueden ser una soluci\\u00f3n.\\u00a0 \\u201cUno de los retos a los que la humanidad se enfrentar\\u00e1 en este siglo ser\\u00e1 garantizar el acceso a agua potable para los 8.000 millones de personas que pronto poblaremos el planeta, sin que eso multiplique el problema que tenemos con los pl\\u00e1sticos\\u201d, a\\u00f1ade Dakov.\\nDisponer de una fuente de agua potable en todos los hogares es esencial para la salud humana y del medioambiente. Y disfrutar de agua limpia y desag\\u00fces es un factor m\\u00e1s para luchar contra la desigualdad. En la medida en que reducen la dependencia del agua embotellada, los filtros de agua pueden suponer una de las soluciones a este desaf\\u00edo. Sin embargo, como ya hemos se\\u00f1alado, garantizar la potabilidad del agua desde un punto de vista qu\\u00edmico y biol\\u00f3gico es mucho m\\u00e1s complicado que instalar un filtro en casa.\",\n          \"Bbva revel\\u00f3 el Consumption Tracker con cierre al 17 de agosto. Este es un indicador que mide las transacciones de los clientes del banco con tarjetas d\\u00e9bito y cr\\u00e9dito y clasifica sus compras por segmento y regi\\u00f3n.El consumo en lo corrido de agosto se ubic\\u00f3 162 por encima de lo registrado en el mismo periodo de 2019 sin embargo fue ligeramente inferior al observado en julio 176.La disminuci\\u00f3n de gasto m\\u00e1s dram\\u00e1tica se evidenci\\u00f3 en los servicios de salud especialmente en droguer\\u00edas pues volvieron a ubicarse por debajo de su nivel prepandemia en 37. Seg\\u00fan explic\\u00f3 la entidad esto se debi\\u00f3 a una menor demanda explicada por la disminuci\\u00f3n en los casos de covid19.Los servicios mostraron una contracci\\u00f3n de 33 frente a 2019 mientras que los bienes mantuvieron un mejor comportamiento con un alza de 298.Dentro del grupo de servicios el gasto en restaurantes lider\\u00f3 la recuperaci\\u00f3n y volvi\\u00f3 a alcanzar un nuevo m\\u00e1ximo en lo corrido del mes ubic\\u00e1ndose 223 por encima de lo registrado en el mismo periodo de 2019.En el grupo de bienes se destac\\u00f3 la recuperaci\\u00f3n que ha tenido el sector de vestuario que desde el mes pasado volvi\\u00f3 a sus niveles prepandemia y en lo corrido del mes se ubic\\u00f3 73 por encima de lo observado en el mismo periodo en 2019.A nivel regional Barranquilla fue la ciudad que mostr\\u00f3 una mayor recuperaci\\u00f3n del consumo y se ubic\\u00f3 137 por encima de lo observado en el mismo periodo de 2019. Siguieron Cali y Cartagena con registros de 124 y 120 por encima del a\\u00f1o anterior a la crisis.\"\n        ],\n        \"semantic_type\": \"\",\n        \"description\": \"\"\n      }\n    },\n    {\n      \"column\": \"Type\",\n      \"properties\": {\n        \"dtype\": \"category\",\n        \"num_unique_values\": 7,\n        \"samples\": [\n          \"Otra\",\n          \"Regulaciones\",\n          \"Sostenibilidad\"\n        ],\n        \"semantic_type\": \"\",\n        \"description\": \"\"\n      }\n    }\n  ]\n}"
            }
          },
          "metadata": {},
          "execution_count": 33
        }
      ]
    },
    {
      "cell_type": "code",
      "metadata": {
        "source_hash": null,
        "execution_start": 1718411416806,
        "execution_millis": 333,
        "deepnote_to_be_reexecuted": false,
        "cell_id": "5c9222ec36b04d6db011104e790b814b",
        "deepnote_cell_type": "code",
        "id": "PHQCH7VkhZbp",
        "outputId": "0a8453fe-6cbc-4a5a-b4d8-4f8518877c29",
        "colab": {
          "base_uri": "https://localhost:8080/",
          "height": 122
        }
      },
      "source": [
        "df_total[\"news\"][2]"
      ],
      "execution_count": 34,
      "outputs": [
        {
          "output_type": "execute_result",
          "data": {
            "text/plain": [
              "'En una industria históricamente masculina como lo es la aviación Viva presentó su avión rosado A320NEO que apuesta por la equidad de género la lucha contra el cáncer de mama la inclusión y la diversidad.Desde Francia llegó Go Pink que tuvo un precio promedio de US50 millones convirtiéndose en la aeronave número 20 de las 21 con las que finalizará el año esta aerolínea.En Viva estamos trabajando muy fuerte para que haya más mujeres. Actualmente el grupo ejecutivo está compuesto por 42 mujeres pero la meta es llegar en 2022 con 50 de ellas en nuestro staff señaló Félix Antelo CEO de Viva.Asimismo agregó que están evaluando traer otro avión con esta propuesta para el próximo año así como proyectan un crecimiento de 60 en sillas para el último trimestre de 2021 en comparación con el mismo periodo de 2019.Vamos a estar moviendo más de dos millones de pasajeros para finalizar el año es un número ambicioso pero estamos contentos por la reacción del mercado y porque muchos pasajeros están eligiendo a Viva por la flota nueva la nueva imagen y los precios bajos dijo.Sobre los planes de expansión internacional de la compañía la aerolínea continuará creciendo pues proyectan abrir 15 rutas en tres años.Tenemos una buena apuesta por Florida Nueva York República Dominicana y Buenos Aires probablemente para el próximo año contó Declan Ryan presidente del Grupo Viva.Del mismo modo reveló que se estudia una alianza con Viva Aerobus la aerolínea mexicana que recientemente empezó a operar en Colombia.Viva Aerobus es como un hijo para mí. Juan Carlos el CEO es un gran amigo y seguramente vamos a trabajar con ellos. Es algo que se contempla.Teniendo en cuenta la entrada de más empresas al modelo de low cost muchos cuestionan si la industria va camino a ser solo de este nicho no obstante es algo que no podrán asumir todas las aerolíneas según Ryan.En promedio las personas ahorran US50 al viajar con modelo de bajo costo es decir US14 billones han sido ahorrados por los colombianos. Sin embargo la historia de la aviación nos ha mostrado que cuando las grandes aerolíneas tratan de trabajar bajo el modelo de low cost no les funciona por sus costos.'"
            ],
            "application/vnd.google.colaboratory.intrinsic+json": {
              "type": "string"
            }
          },
          "metadata": {},
          "execution_count": 34
        }
      ]
    },
    {
      "cell_type": "markdown",
      "source": [
        "Agarramos un texto aleatoriamente usando .sample()\n",
        "En cada iteración el resumidor devolverá distintos textos resumidos"
      ],
      "metadata": {
        "id": "8lKzvsaJ9KCq"
      }
    },
    {
      "cell_type": "code",
      "metadata": {
        "source_hash": null,
        "execution_start": 1718411451433,
        "execution_millis": 47,
        "deepnote_to_be_reexecuted": false,
        "cell_id": "52b72fe4883341a7b63099073367d41f",
        "deepnote_cell_type": "code",
        "id": "FE4LbGlJhZbq",
        "colab": {
          "base_uri": "https://localhost:8080/",
          "height": 115
        },
        "outputId": "5e9c1c29-0532-41e5-d8e2-f803a8b8988d"
      },
      "source": [
        "doc = df_total['news'].sample()\n",
        "doc"
      ],
      "execution_count": 35,
      "outputs": [
        {
          "output_type": "execute_result",
          "data": {
            "text/plain": [
              "367    El dato del Producto Interno Bruto PIB dado a ...\n",
              "Name: news, dtype: object"
            ],
            "text/html": [
              "<div>\n",
              "<style scoped>\n",
              "    .dataframe tbody tr th:only-of-type {\n",
              "        vertical-align: middle;\n",
              "    }\n",
              "\n",
              "    .dataframe tbody tr th {\n",
              "        vertical-align: top;\n",
              "    }\n",
              "\n",
              "    .dataframe thead th {\n",
              "        text-align: right;\n",
              "    }\n",
              "</style>\n",
              "<table border=\"1\" class=\"dataframe\">\n",
              "  <thead>\n",
              "    <tr style=\"text-align: right;\">\n",
              "      <th></th>\n",
              "      <th>news</th>\n",
              "    </tr>\n",
              "  </thead>\n",
              "  <tbody>\n",
              "    <tr>\n",
              "      <th>367</th>\n",
              "      <td>El dato del Producto Interno Bruto PIB dado a ...</td>\n",
              "    </tr>\n",
              "  </tbody>\n",
              "</table>\n",
              "</div><br><label><b>dtype:</b> object</label>"
            ]
          },
          "metadata": {},
          "execution_count": 35
        }
      ]
    },
    {
      "cell_type": "code",
      "metadata": {
        "source_hash": null,
        "execution_start": 1718411455002,
        "execution_millis": 200,
        "deepnote_to_be_reexecuted": false,
        "cell_id": "bb24281791e5445c8681d7b0d37c5be6",
        "deepnote_cell_type": "code",
        "id": "KtYvBC0nhZbr",
        "outputId": "86dfe5cc-6805-43d3-f7bc-7fb78848b77c",
        "colab": {
          "base_uri": "https://localhost:8080/"
        }
      },
      "source": [
        "print(f\"type doc: {type(doc)}\")\n",
        "print(f\"type iloc: {type(doc.iloc[0])}\")\n",
        "print(doc.iloc[0])"
      ],
      "execution_count": 36,
      "outputs": [
        {
          "output_type": "stream",
          "name": "stdout",
          "text": [
            "type doc: <class 'pandas.core.series.Series'>\n",
            "type iloc: <class 'str'>\n",
            "El dato del Producto Interno Bruto PIB dado a conocer por el INEGI ha provocado una serie de análisis en torno al comportamiento que tiene la economía mexicana. Carlos Serrano Herrera economista jefe de BBVA México detalla en la columna PIB a la primera mitad del año continúa la recuperación débil e incompleta publicada en el periódico El Financiero cuál es la lectura que debe darse al reporte de este indicador de crecimiento y si el país transita por una recuperación económica.Serrano explica que el PIB al segundo trimestre del 2022 reportó un crecimiento de 1 con respecto al trimestre anterior lo cual implica que la economía se expandió a un ritmo anualizado de alrededor de 4. Comparando la primera mitad de este año frente al mismo periodo del año anterior la economía creció 1.7. Se trata sin duda de un buen semestre que muestra que el proceso de recuperación continúa.De acuerdo con el economista este comportamiento en el crecimiento económico deriva principalmente de algunos factores como los cuellos de botella en las cadenas globales que se han ido resolviendo impactando directamente en la recuperación de la producción industrial. Un claro ejemplo en México es la industria automotriz que hace unos meses operaba a un 60 de su capacidad instalada y hoy lo hace a alrededor del 90 que era el nivel observado antes de la pandemia.La realidad es que la economía del país sigue mostrando importantes niveles de holgura y que la recuperación continúa siendo anémica e incompletaAsimismo Serrano destaca que el crecimiento en el consumo es otro de los elementos que ha favorecido la recuperación esto gracias a los altos niveles de ahorro que las familias tuvieron durante la pandemia de COVID 19 así como al mejor comportamiento en el empleo la alta e histórica recepción de remesas en el país y a que las recientes olas de contagios de COVID han sido mucho menos dañinas para la salud que las primerasAun con estos escenarios para el economista jefe de BBVA México no se debe determinar que existe una recuperación económica basada solamente en el dato trimestral del PIB porque la realidad es que la economía del país sigue mostrando importantes niveles de holgura y que la recuperación continúa siendo anémica e incompleta.Serrano precisa que el crecimiento de la economía mexicana al segundo trimestre de este año significa que la economía está 1.1 por debajo del nivel prepandemia lo cual compara mal con las principales economías de Latinoamérica como Argentina Brasil Chile Colombia y Perú quienes ya recuperaron los niveles que manejaban antes de la pandemia y señala que si comparamos el nivel actual de PIB con el que se tendría de haber seguido creciendo al ritmo prepandemia que por cierto no era de presumir vemos que la economía está 6.8 por debajo de dicho nivel.En ese sentido el economista anticipa que el PIB del segundo trimestre de 2022 es muy similar al del mismo periodo de 2017 por lo que advierte que la lectura de esta comparación solo demuestra que en la economía mexicana se han perdido cinco años de crecimiento en términos per cápita la comparativa es peor.Análisis económicoAnte los altos niveles de inflación que se han presentado en el mundo el rol institucional de los bancos centrales los obliga a implementar una política monetaria restrictiva. Arnulfo Rodríguez Hernández economista principal de BBVA México destaca en la columna El dilema que la Fed podría enfrentar publicada en el periódico El Economista la contundencia con la que la Reserva Federal combate la elevada inflación aun ante un posible escenario de recesión económica.En su análisis Serrano puntualiza que quienes sostienen que la economía mexicana creció en el trimestre mientras la estadounidense se contraía así como los que dicen que es una señal de fortaleza económica del país y los que hablan de un proceso de desacoplamiento entre ambas economías son apreciaciones incorrectas. Primero porque Estados Unidos ya se había recuperado después de la crisis por la pandemia e incluso creció por encima de su nivel potencial. Era una economía sobrecalentada lo cual explica en parte su elevada inflación y que ahora está desacelerándose lo cual es deseable y contribuirá a reducir el alza de precios.Para finalizar Serrano reitera que la economía mexicana no se ha estabilizado de la pandemia y se mantiene en el camino de la recuperación. Es por ello que los datos del segundo trimestre no demuestran mayor fortaleza en la economía mexicana que en la de Estados Unidos por el contrario reflejan que ambas economías siguen muy compenetradas y que en parte debido a ello el próximo año será de menor crecimiento económico.El artículo se publicó en El Financiero el 4 de agosto de 2022 y puede consultarse en este link.\n"
          ]
        }
      ]
    },
    {
      "cell_type": "markdown",
      "source": [
        "iloc[] se usa cuando deseas acceder a una fila o columna por su posición y no por su etiqueta o nombre\n",
        "\n",
        "\n",
        "\n",
        "---\n",
        "\n",
        "\n",
        "```textwrap.fill()```\n",
        "Esta función toma un texto largo en una sola línea y lo divide en múltiples líneas para que sea más legible, como si lo estuvieras acomodando en un párrafo."
      ],
      "metadata": {
        "id": "lWOREWmL7Fka"
      }
    },
    {
      "cell_type": "code",
      "metadata": {
        "source_hash": null,
        "execution_start": 1718411464524,
        "execution_millis": 47,
        "deepnote_to_be_reexecuted": false,
        "cell_id": "142a52567a214ebea38a1f19184bc26e",
        "deepnote_cell_type": "code",
        "id": "lRi1B2mDhZbs"
      },
      "source": [
        "doc2 = textwrap.fill(doc.iloc[0], replace_whitespace=False, fix_sentence_endings=True)"
      ],
      "execution_count": 37,
      "outputs": []
    },
    {
      "cell_type": "code",
      "metadata": {
        "source_hash": null,
        "execution_start": 1718411468211,
        "execution_millis": 230,
        "deepnote_to_be_reexecuted": false,
        "cell_id": "38ccc4c6dc65411a83641b58bfa825c4",
        "deepnote_cell_type": "code",
        "id": "32oN7zO3hZbs",
        "outputId": "74d1756f-7a51-4568-d6d8-0778c5ba1f40",
        "colab": {
          "base_uri": "https://localhost:8080/"
        }
      },
      "source": [
        "print(doc2)"
      ],
      "execution_count": 38,
      "outputs": [
        {
          "output_type": "stream",
          "name": "stdout",
          "text": [
            "El dato del Producto Interno Bruto PIB dado a conocer por el INEGI ha\n",
            "provocado una serie de análisis en torno al comportamiento que tiene\n",
            "la economía mexicana.  Carlos Serrano Herrera economista jefe de BBVA\n",
            "México detalla en la columna PIB a la primera mitad del año continúa\n",
            "la recuperación débil e incompleta publicada en el periódico El\n",
            "Financiero cuál es la lectura que debe darse al reporte de este\n",
            "indicador de crecimiento y si el país transita por una recuperación\n",
            "económica.Serrano explica que el PIB al segundo trimestre del 2022\n",
            "reportó un crecimiento de 1 con respecto al trimestre anterior lo cual\n",
            "implica que la economía se expandió a un ritmo anualizado de alrededor\n",
            "de 4. Comparando la primera mitad de este año frente al mismo periodo\n",
            "del año anterior la economía creció 1.7. Se trata sin duda de un buen\n",
            "semestre que muestra que el proceso de recuperación continúa.De\n",
            "acuerdo con el economista este comportamiento en el crecimiento\n",
            "económico deriva principalmente de algunos factores como los cuellos\n",
            "de botella en las cadenas globales que se han ido resolviendo\n",
            "impactando directamente en la recuperación de la producción\n",
            "industrial.  Un claro ejemplo en México es la industria automotriz que\n",
            "hace unos meses operaba a un 60 de su capacidad instalada y hoy lo\n",
            "hace a alrededor del 90 que era el nivel observado antes de la\n",
            "pandemia.La realidad es que la economía del país sigue mostrando\n",
            "importantes niveles de holgura y que la recuperación continúa siendo\n",
            "anémica e incompletaAsimismo Serrano destaca que el crecimiento en el\n",
            "consumo es otro de los elementos que ha favorecido la recuperación\n",
            "esto gracias a los altos niveles de ahorro que las familias tuvieron\n",
            "durante la pandemia de COVID 19 así como al mejor comportamiento en el\n",
            "empleo la alta e histórica recepción de remesas en el país y a que las\n",
            "recientes olas de contagios de COVID han sido mucho menos dañinas para\n",
            "la salud que las primerasAun con estos escenarios para el economista\n",
            "jefe de BBVA México no se debe determinar que existe una recuperación\n",
            "económica basada solamente en el dato trimestral del PIB porque la\n",
            "realidad es que la economía del país sigue mostrando importantes\n",
            "niveles de holgura y que la recuperación continúa siendo anémica e\n",
            "incompleta.Serrano precisa que el crecimiento de la economía mexicana\n",
            "al segundo trimestre de este año significa que la economía está 1.1\n",
            "por debajo del nivel prepandemia lo cual compara mal con las\n",
            "principales economías de Latinoamérica como Argentina Brasil Chile\n",
            "Colombia y Perú quienes ya recuperaron los niveles que manejaban antes\n",
            "de la pandemia y señala que si comparamos el nivel actual de PIB con\n",
            "el que se tendría de haber seguido creciendo al ritmo prepandemia que\n",
            "por cierto no era de presumir vemos que la economía está 6.8 por\n",
            "debajo de dicho nivel.En ese sentido el economista anticipa que el PIB\n",
            "del segundo trimestre de 2022 es muy similar al del mismo periodo de\n",
            "2017 por lo que advierte que la lectura de esta comparación solo\n",
            "demuestra que en la economía mexicana se han perdido cinco años de\n",
            "crecimiento en términos per cápita la comparativa es peor.Análisis\n",
            "económicoAnte los altos niveles de inflación que se han presentado en\n",
            "el mundo el rol institucional de los bancos centrales los obliga a\n",
            "implementar una política monetaria restrictiva.  Arnulfo Rodríguez\n",
            "Hernández economista principal de BBVA México destaca en la columna El\n",
            "dilema que la Fed podría enfrentar publicada en el periódico El\n",
            "Economista la contundencia con la que la Reserva Federal combate la\n",
            "elevada inflación aun ante un posible escenario de recesión\n",
            "económica.En su análisis Serrano puntualiza que quienes sostienen que\n",
            "la economía mexicana creció en el trimestre mientras la estadounidense\n",
            "se contraía así como los que dicen que es una señal de fortaleza\n",
            "económica del país y los que hablan de un proceso de desacoplamiento\n",
            "entre ambas economías son apreciaciones incorrectas.  Primero porque\n",
            "Estados Unidos ya se había recuperado después de la crisis por la\n",
            "pandemia e incluso creció por encima de su nivel potencial.  Era una\n",
            "economía sobrecalentada lo cual explica en parte su elevada inflación\n",
            "y que ahora está desacelerándose lo cual es deseable y contribuirá a\n",
            "reducir el alza de precios.Para finalizar Serrano reitera que la\n",
            "economía mexicana no se ha estabilizado de la pandemia y se mantiene\n",
            "en el camino de la recuperación.  Es por ello que los datos del\n",
            "segundo trimestre no demuestran mayor fortaleza en la economía\n",
            "mexicana que en la de Estados Unidos por el contrario reflejan que\n",
            "ambas economías siguen muy compenetradas y que en parte debido a ello\n",
            "el próximo año será de menor crecimiento económico.El artículo se\n",
            "publicó en El Financiero el 4 de agosto de 2022 y puede consultarse en\n",
            "este link.\n"
          ]
        }
      ]
    },
    {
      "cell_type": "code",
      "metadata": {
        "source_hash": null,
        "execution_start": 1718411495056,
        "execution_millis": 190,
        "deepnote_to_be_reexecuted": false,
        "cell_id": "589fa16b9e7749e594e2f5f32ab678be",
        "deepnote_cell_type": "code",
        "id": "z8B9ICv6hZbt",
        "outputId": "d45286af-6323-4543-e48d-3b67dcdbaaa4",
        "colab": {
          "base_uri": "https://localhost:8080/"
        }
      },
      "source": [
        "#lineas = doc2.split(\".\")\n",
        "lineas = sent_tokenize(doc2)\n",
        "lineas"
      ],
      "execution_count": 39,
      "outputs": [
        {
          "output_type": "execute_result",
          "data": {
            "text/plain": [
              "['El dato del Producto Interno Bruto PIB dado a conocer por el INEGI ha\\nprovocado una serie de análisis en torno al comportamiento que tiene\\nla economía mexicana.',\n",
              " 'Carlos Serrano Herrera economista jefe de BBVA\\nMéxico detalla en la columna PIB a la primera mitad del año continúa\\nla recuperación débil e incompleta publicada en el periódico El\\nFinanciero cuál es la lectura que debe darse al reporte de este\\nindicador de crecimiento y si el país transita por una recuperación\\neconómica.Serrano explica que el PIB al segundo trimestre del 2022\\nreportó un crecimiento de 1 con respecto al trimestre anterior lo cual\\nimplica que la economía se expandió a un ritmo anualizado de alrededor\\nde 4.',\n",
              " 'Comparando la primera mitad de este año frente al mismo periodo\\ndel año anterior la economía creció 1.7.',\n",
              " 'Se trata sin duda de un buen\\nsemestre que muestra que el proceso de recuperación continúa.De\\nacuerdo con el economista este comportamiento en el crecimiento\\neconómico deriva principalmente de algunos factores como los cuellos\\nde botella en las cadenas globales que se han ido resolviendo\\nimpactando directamente en la recuperación de la producción\\nindustrial.',\n",
              " 'Un claro ejemplo en México es la industria automotriz que\\nhace unos meses operaba a un 60 de su capacidad instalada y hoy lo\\nhace a alrededor del 90 que era el nivel observado antes de la\\npandemia.La realidad es que la economía del país sigue mostrando\\nimportantes niveles de holgura y que la recuperación continúa siendo\\nanémica e incompletaAsimismo Serrano destaca que el crecimiento en el\\nconsumo es otro de los elementos que ha favorecido la recuperación\\nesto gracias a los altos niveles de ahorro que las familias tuvieron\\ndurante la pandemia de COVID 19 así como al mejor comportamiento en el\\nempleo la alta e histórica recepción de remesas en el país y a que las\\nrecientes olas de contagios de COVID han sido mucho menos dañinas para\\nla salud que las primerasAun con estos escenarios para el economista\\njefe de BBVA México no se debe determinar que existe una recuperación\\neconómica basada solamente en el dato trimestral del PIB porque la\\nrealidad es que la economía del país sigue mostrando importantes\\nniveles de holgura y que la recuperación continúa siendo anémica e\\nincompleta.Serrano precisa que el crecimiento de la economía mexicana\\nal segundo trimestre de este año significa que la economía está 1.1\\npor debajo del nivel prepandemia lo cual compara mal con las\\nprincipales economías de Latinoamérica como Argentina Brasil Chile\\nColombia y Perú quienes ya recuperaron los niveles que manejaban antes\\nde la pandemia y señala que si comparamos el nivel actual de PIB con\\nel que se tendría de haber seguido creciendo al ritmo prepandemia que\\npor cierto no era de presumir vemos que la economía está 6.8 por\\ndebajo de dicho nivel.En ese sentido el economista anticipa que el PIB\\ndel segundo trimestre de 2022 es muy similar al del mismo periodo de\\n2017 por lo que advierte que la lectura de esta comparación solo\\ndemuestra que en la economía mexicana se han perdido cinco años de\\ncrecimiento en términos per cápita la comparativa es peor.Análisis\\neconómicoAnte los altos niveles de inflación que se han presentado en\\nel mundo el rol institucional de los bancos centrales los obliga a\\nimplementar una política monetaria restrictiva.',\n",
              " 'Arnulfo Rodríguez\\nHernández economista principal de BBVA México destaca en la columna El\\ndilema que la Fed podría enfrentar publicada en el periódico El\\nEconomista la contundencia con la que la Reserva Federal combate la\\nelevada inflación aun ante un posible escenario de recesión\\neconómica.En su análisis Serrano puntualiza que quienes sostienen que\\nla economía mexicana creció en el trimestre mientras la estadounidense\\nse contraía así como los que dicen que es una señal de fortaleza\\neconómica del país y los que hablan de un proceso de desacoplamiento\\nentre ambas economías son apreciaciones incorrectas.',\n",
              " 'Primero porque\\nEstados Unidos ya se había recuperado después de la crisis por la\\npandemia e incluso creció por encima de su nivel potencial.',\n",
              " 'Era una\\neconomía sobrecalentada lo cual explica en parte su elevada inflación\\ny que ahora está desacelerándose lo cual es deseable y contribuirá a\\nreducir el alza de precios.Para finalizar Serrano reitera que la\\neconomía mexicana no se ha estabilizado de la pandemia y se mantiene\\nen el camino de la recuperación.',\n",
              " 'Es por ello que los datos del\\nsegundo trimestre no demuestran mayor fortaleza en la economía\\nmexicana que en la de Estados Unidos por el contrario reflejan que\\nambas economías siguen muy compenetradas y que en parte debido a ello\\nel próximo año será de menor crecimiento económico.El artículo se\\npublicó en El Financiero el 4 de agosto de 2022 y puede consultarse en\\neste link.']"
            ]
          },
          "metadata": {},
          "execution_count": 39
        }
      ]
    },
    {
      "cell_type": "markdown",
      "source": [
        "## TfidfVectorizer:\n",
        "\n",
        "1) Es una clase de scikit-learn que convierte una colección de documentos de texto en una matriz TF-IDF. El modelo TF-IDF es una técnica para representar los textos en forma numérica y ponderar las palabras según su relevancia dentro del conjunto de documentos.\n",
        "\n",
        "- TF (Frecuencia de términos) mide cuántas veces aparece una palabra en un documento.\n",
        "- IDF (Frecuencia inversa de documentos) mide cuán común o rara es una palabra en el conjunto de documentos, lo que ayuda a reducir la importancia de palabras comunes y a aumentar la relevancia de palabras raras.\n",
        "\n",
        "2) stop_words=stopwords.words('spanish'):\n",
        "\n",
        "Este parámetro especifica que se deben eliminar las stopwords (palabras vacías) en español de los textos antes de convertirlos en vectores TF-IDF. Las \"stopwords\" son palabras muy comunes en el lenguaje que no aportan significado importante al análisis (como \"el\", \"y\", \"de\").\n",
        "\n",
        "Para esto, se está usando la función stopwords.words('spanish') de la librería nltk (Natural Language Toolkit), que carga una lista de palabras vacías en español.\n",
        "\n",
        "3) norm='l1':\n",
        "\n",
        "El parámetro norm especifica el tipo de normalización a aplicar sobre los vectores resultantes. En este caso, se usa la norma L1, lo que significa que las sumas absolutas de las ponderaciones de los términos en un documento serán igual a 1. La normalización ayuda a mantener comparables los documentos a pesar de que tengan diferentes tamaños (número de palabras)."
      ],
      "metadata": {
        "id": "zYN-3qFghGOH"
      }
    },
    {
      "cell_type": "code",
      "metadata": {
        "source_hash": null,
        "execution_start": 1718411501923,
        "execution_millis": 42,
        "deepnote_to_be_reexecuted": false,
        "cell_id": "a8b2bd8125274b80aeed169429d5d27b",
        "deepnote_cell_type": "code",
        "id": "AEc_Q2ZohZbt"
      },
      "source": [
        "tokenizar = TfidfVectorizer(\n",
        "    stop_words=stopwords.words('spanish'),\n",
        "    max_df=0.85,          # Ignora palabras que aparecen en más del 85% de las oraciones\n",
        "    min_df=2,             # Ignora palabras que aparecen menos de 2 veces\n",
        "    ngram_range=(1,2),     # Considera palabras individuales y pares de palabras (bigramas)\n",
        "    norm='l1',\n",
        ")\n"
      ],
      "execution_count": 40,
      "outputs": []
    },
    {
      "cell_type": "markdown",
      "source": [
        "**Aprender el vocabulario (fit):** Al ejecutar fit_transform, el vectorizador primero analiza los textos en lineas y crea un vocabulario, que es un conjunto de todas las palabras únicas encontradas en los textos, excluyendo las stopwords (como \"el\", \"de\", etc.) que se han configurado para eliminarse.\n",
        "\n",
        "**\"Transformar el texto en vectores\" (transform):** Luego, el texto en lineas se transforma en una matriz de características TF-IDF, donde:\n",
        "\n",
        "Las filas representan los documentos (cada línea de texto).\n",
        "Las columnas representan las palabras del vocabulario.\n",
        "Los valores en la matriz son los pesos TF-IDF de cada palabra para cada documento.\n",
        "\n",
        "**Matriz resultante:** La matriz X será dispersa, lo que significa que la mayoría de los valores son cero, ya que no todas las palabras del vocabulario aparecen en cada documento. Para optimizar el almacenamiento, X se guarda en un formato disperso que es eficiente en términos de memoria."
      ],
      "metadata": {
        "id": "7jrNfvN-Csdh"
      }
    },
    {
      "cell_type": "code",
      "metadata": {
        "source_hash": null,
        "execution_start": 1718411506261,
        "execution_millis": 87,
        "deepnote_to_be_reexecuted": false,
        "cell_id": "0a78bce5f2f547e6b6f9c26dcd41b3b5",
        "deepnote_cell_type": "code",
        "id": "dT8JWuY_hZbv",
        "colab": {
          "base_uri": "https://localhost:8080/"
        },
        "outputId": "65b6dff0-4309-4b9f-d753-d34163f16cb8"
      },
      "source": [
        "X = tokenizar.fit_transform(lineas)\n",
        "X"
      ],
      "execution_count": 41,
      "outputs": [
        {
          "output_type": "execute_result",
          "data": {
            "text/plain": [
              "<Compressed Sparse Row sparse matrix of dtype 'float64'\n",
              "\twith 171 stored elements and shape (9, 66)>"
            ]
          },
          "metadata": {},
          "execution_count": 41
        }
      ]
    },
    {
      "cell_type": "code",
      "metadata": {
        "source_hash": null,
        "execution_start": 1718411522700,
        "execution_millis": 526,
        "deepnote_to_be_reexecuted": false,
        "cell_id": "3decd06675c64412bcdee251cf4a5b00",
        "deepnote_cell_type": "code",
        "id": "CwwqxvKhhZbw"
      },
      "source": [
        "filas, columnas = X.shape\n",
        "#X.toarray()"
      ],
      "execution_count": 42,
      "outputs": []
    },
    {
      "cell_type": "markdown",
      "source": [
        "Esta función toma una fila de la matriz TF-IDF (representada como tfidf_row) y calcula el promedio de los valores distintos de cero en esa fila.\n",
        "\n",
        "`tfidf_row[tfidf_row != 0]`\n",
        "\n",
        "Esto selecciona solo los elementos de la fila que son diferentes de cero. En la matriz TF-IDF, la mayoría de los valores suelen ser ceros, ya que muchas palabras no aparecen en cada documento.\n",
        "\n",
        "`x.mean()`\n",
        "\n",
        "Calcula el promedio de los valores seleccionados (es decir, el promedio de los pesos TF-IDF de las palabras que aparecen en ese documento).\n",
        "\n",
        "El objetivo de esta función es obtener una medida representativa del \"peso\" promedio de las palabras que realmente aparecen en un documento."
      ],
      "metadata": {
        "id": "wrbLdcsaDPG2"
      }
    },
    {
      "cell_type": "code",
      "metadata": {
        "source_hash": null,
        "execution_start": 1718411538564,
        "execution_millis": 73,
        "deepnote_to_be_reexecuted": false,
        "cell_id": "302a5591bf334b44bd8d27a475c278dc",
        "deepnote_cell_type": "code",
        "id": "0omvprRihZbw"
      },
      "source": [
        "def obtener_score(tfidf_row):\n",
        "    if tfidf_row.getnnz() == 0:\n",
        "        return 0\n",
        "    return tfidf_row.data.mean()"
      ],
      "execution_count": 43,
      "outputs": []
    },
    {
      "cell_type": "markdown",
      "source": [
        "¿Qué está calculando el código?\n",
        "\n",
        "El código está calculando un score promedio TF-IDF para cada documento de lineas. Este score representa el valor promedio de los pesos TF-IDF de las palabras que aparecen en ese documento (las palabras con peso cero, es decir, las que no aparecen en el documento, se ignoran).\n",
        "\n",
        "Al final del proceso, el array scores contiene un valor por cada documento, y ese valor refleja la importancia promedio de las palabras en dicho documento."
      ],
      "metadata": {
        "id": "nmQbx6BMEMV5"
      }
    },
    {
      "cell_type": "code",
      "metadata": {
        "source_hash": null,
        "execution_start": 1718411542737,
        "execution_millis": 87,
        "deepnote_to_be_reexecuted": false,
        "cell_id": "87c02bba2ce5427cb0de2b0f9f428257",
        "deepnote_cell_type": "code",
        "id": "HYna2n6HhZbw"
      },
      "source": [
        "scores = np.zeros(len(lineas))\n",
        "for i in range(len(lineas)):\n",
        "    score = obtener_score(X[i,:])\n",
        "    scores[i] = score"
      ],
      "execution_count": 44,
      "outputs": []
    },
    {
      "cell_type": "code",
      "metadata": {
        "source_hash": null,
        "execution_start": 1718411547204,
        "execution_millis": 72,
        "deepnote_to_be_reexecuted": false,
        "cell_id": "def50341d0d648e8ad36606700e130da",
        "deepnote_cell_type": "code",
        "id": "uT-7G29NhZbx",
        "colab": {
          "base_uri": "https://localhost:8080/"
        },
        "outputId": "d89f0370-e9a2-494e-a97d-99de64af433e"
      },
      "source": [
        "scores"
      ],
      "execution_count": 45,
      "outputs": [
        {
          "output_type": "execute_result",
          "data": {
            "text/plain": [
              "array([0.14285714, 0.025     , 0.09090909, 0.11111111, 0.02272727,\n",
              "       0.03703704, 0.25      , 0.09090909, 0.05555556])"
            ]
          },
          "metadata": {},
          "execution_count": 45
        }
      ]
    },
    {
      "cell_type": "code",
      "metadata": {
        "source_hash": null,
        "execution_start": 1718411560306,
        "execution_millis": 75,
        "deepnote_to_be_reexecuted": false,
        "cell_id": "d63bcc555ea24e1bb2ce62f9fa71f7d9",
        "deepnote_cell_type": "code",
        "id": "UjADH70qhZbx"
      },
      "source": [
        "sort_idx = np.argsort(-scores)"
      ],
      "execution_count": 46,
      "outputs": []
    },
    {
      "cell_type": "markdown",
      "source": [
        "np.argsort(): Esta función devuelve los índices que ordenarían un array.\n",
        "\n",
        "-scores: El signo negativo indica que quieres ordenar el array de scores en orden descendente (de mayor a menor).\n",
        "\n",
        "El resultado, sort_idx, será un array de índices que representarán el orden de los elementos en scores de mayor a menor."
      ],
      "metadata": {
        "id": "yC-113yIlc35"
      }
    },
    {
      "cell_type": "code",
      "metadata": {
        "source_hash": null,
        "execution_start": 1718411564793,
        "execution_millis": 51,
        "deepnote_to_be_reexecuted": false,
        "cell_id": "16985dbe17d44c6aa680ef284f249fee",
        "deepnote_cell_type": "code",
        "id": "93UFNr3JhZbx",
        "colab": {
          "base_uri": "https://localhost:8080/"
        },
        "outputId": "a6f9bb49-d258-4f4b-a241-8803d2395b84"
      },
      "source": [
        "sort_idx"
      ],
      "execution_count": 47,
      "outputs": [
        {
          "output_type": "execute_result",
          "data": {
            "text/plain": [
              "array([6, 0, 3, 2, 7, 8, 5, 1, 4])"
            ]
          },
          "metadata": {},
          "execution_count": 47
        }
      ]
    },
    {
      "cell_type": "markdown",
      "source": [
        "Genera resumen de las 15 oraciones más relevantes del texto\n",
        "\n",
        "Para cada iteración:\n",
        "\n",
        "    sort_idx[i]: El índice de la oración en el corpus de lineas (obtenido a partir de un array sort_idx que contiene los índices ordenados de mayor a menor relevancia según scores).\n",
        "    scores[sort_idx[i]]: La puntuación de relevancia asociada con esa oración.\n",
        "    lineas[sort_idx[i]]: La oración en sí misma (obtenida de lineas, que parece ser una lista o array de oraciones).\n",
        "\n",
        "Por lo tanto, esta línea almacena en la lista oraciones el índice, la puntuación y la oración correspondiente a cada iteración."
      ],
      "metadata": {
        "id": "zqm-YzD7nwxp"
      }
    },
    {
      "cell_type": "code",
      "metadata": {
        "source_hash": null,
        "execution_start": 1718411727337,
        "execution_millis": 147,
        "deepnote_to_be_reexecuted": false,
        "cell_id": "fc5e4e81f34a4c81936f9d02e74dcda2",
        "deepnote_cell_type": "code",
        "id": "thWy1TLmhZby",
        "colab": {
          "base_uri": "https://localhost:8080/"
        },
        "outputId": "ac3be61b-0be9-4cb6-e231-539be8893f51"
      },
      "source": [
        "print(\"Resumen:\")\n",
        "oraciones = []\n",
        "for i in range(min(15, len(sort_idx))):\n",
        "    oraciones.append([sort_idx[i], scores[sort_idx[i]], lineas[sort_idx[i]]])\n",
        "    print(f\"{i}: score {scores[sort_idx[i]]}: {lineas[sort_idx[i]]}\")"
      ],
      "execution_count": 48,
      "outputs": [
        {
          "output_type": "stream",
          "name": "stdout",
          "text": [
            "Resumen:\n",
            "0: score 0.25: Primero porque\n",
            "Estados Unidos ya se había recuperado después de la crisis por la\n",
            "pandemia e incluso creció por encima de su nivel potencial.\n",
            "1: score 0.14285714285714285: El dato del Producto Interno Bruto PIB dado a conocer por el INEGI ha\n",
            "provocado una serie de análisis en torno al comportamiento que tiene\n",
            "la economía mexicana.\n",
            "2: score 0.1111111111111111: Se trata sin duda de un buen\n",
            "semestre que muestra que el proceso de recuperación continúa.De\n",
            "acuerdo con el economista este comportamiento en el crecimiento\n",
            "económico deriva principalmente de algunos factores como los cuellos\n",
            "de botella en las cadenas globales que se han ido resolviendo\n",
            "impactando directamente en la recuperación de la producción\n",
            "industrial.\n",
            "3: score 0.09090909090909091: Comparando la primera mitad de este año frente al mismo periodo\n",
            "del año anterior la economía creció 1.7.\n",
            "4: score 0.09090909090909091: Era una\n",
            "economía sobrecalentada lo cual explica en parte su elevada inflación\n",
            "y que ahora está desacelerándose lo cual es deseable y contribuirá a\n",
            "reducir el alza de precios.Para finalizar Serrano reitera que la\n",
            "economía mexicana no se ha estabilizado de la pandemia y se mantiene\n",
            "en el camino de la recuperación.\n",
            "5: score 0.055555555555555566: Es por ello que los datos del\n",
            "segundo trimestre no demuestran mayor fortaleza en la economía\n",
            "mexicana que en la de Estados Unidos por el contrario reflejan que\n",
            "ambas economías siguen muy compenetradas y que en parte debido a ello\n",
            "el próximo año será de menor crecimiento económico.El artículo se\n",
            "publicó en El Financiero el 4 de agosto de 2022 y puede consultarse en\n",
            "este link.\n",
            "6: score 0.037037037037037035: Arnulfo Rodríguez\n",
            "Hernández economista principal de BBVA México destaca en la columna El\n",
            "dilema que la Fed podría enfrentar publicada en el periódico El\n",
            "Economista la contundencia con la que la Reserva Federal combate la\n",
            "elevada inflación aun ante un posible escenario de recesión\n",
            "económica.En su análisis Serrano puntualiza que quienes sostienen que\n",
            "la economía mexicana creció en el trimestre mientras la estadounidense\n",
            "se contraía así como los que dicen que es una señal de fortaleza\n",
            "económica del país y los que hablan de un proceso de desacoplamiento\n",
            "entre ambas economías son apreciaciones incorrectas.\n",
            "7: score 0.025000000000000005: Carlos Serrano Herrera economista jefe de BBVA\n",
            "México detalla en la columna PIB a la primera mitad del año continúa\n",
            "la recuperación débil e incompleta publicada en el periódico El\n",
            "Financiero cuál es la lectura que debe darse al reporte de este\n",
            "indicador de crecimiento y si el país transita por una recuperación\n",
            "económica.Serrano explica que el PIB al segundo trimestre del 2022\n",
            "reportó un crecimiento de 1 con respecto al trimestre anterior lo cual\n",
            "implica que la economía se expandió a un ritmo anualizado de alrededor\n",
            "de 4.\n",
            "8: score 0.02272727272727274: Un claro ejemplo en México es la industria automotriz que\n",
            "hace unos meses operaba a un 60 de su capacidad instalada y hoy lo\n",
            "hace a alrededor del 90 que era el nivel observado antes de la\n",
            "pandemia.La realidad es que la economía del país sigue mostrando\n",
            "importantes niveles de holgura y que la recuperación continúa siendo\n",
            "anémica e incompletaAsimismo Serrano destaca que el crecimiento en el\n",
            "consumo es otro de los elementos que ha favorecido la recuperación\n",
            "esto gracias a los altos niveles de ahorro que las familias tuvieron\n",
            "durante la pandemia de COVID 19 así como al mejor comportamiento en el\n",
            "empleo la alta e histórica recepción de remesas en el país y a que las\n",
            "recientes olas de contagios de COVID han sido mucho menos dañinas para\n",
            "la salud que las primerasAun con estos escenarios para el economista\n",
            "jefe de BBVA México no se debe determinar que existe una recuperación\n",
            "económica basada solamente en el dato trimestral del PIB porque la\n",
            "realidad es que la economía del país sigue mostrando importantes\n",
            "niveles de holgura y que la recuperación continúa siendo anémica e\n",
            "incompleta.Serrano precisa que el crecimiento de la economía mexicana\n",
            "al segundo trimestre de este año significa que la economía está 1.1\n",
            "por debajo del nivel prepandemia lo cual compara mal con las\n",
            "principales economías de Latinoamérica como Argentina Brasil Chile\n",
            "Colombia y Perú quienes ya recuperaron los niveles que manejaban antes\n",
            "de la pandemia y señala que si comparamos el nivel actual de PIB con\n",
            "el que se tendría de haber seguido creciendo al ritmo prepandemia que\n",
            "por cierto no era de presumir vemos que la economía está 6.8 por\n",
            "debajo de dicho nivel.En ese sentido el economista anticipa que el PIB\n",
            "del segundo trimestre de 2022 es muy similar al del mismo periodo de\n",
            "2017 por lo que advierte que la lectura de esta comparación solo\n",
            "demuestra que en la economía mexicana se han perdido cinco años de\n",
            "crecimiento en términos per cápita la comparativa es peor.Análisis\n",
            "económicoAnte los altos niveles de inflación que se han presentado en\n",
            "el mundo el rol institucional de los bancos centrales los obliga a\n",
            "implementar una política monetaria restrictiva.\n"
          ]
        }
      ]
    },
    {
      "cell_type": "code",
      "metadata": {
        "source_hash": null,
        "execution_start": 1718411732389,
        "execution_millis": 16,
        "deepnote_to_be_reexecuted": false,
        "cell_id": "18b7dd0c70e4466d8f4e9d169acfbce1",
        "deepnote_cell_type": "code",
        "id": "WT-dSgsLhZby",
        "colab": {
          "base_uri": "https://localhost:8080/"
        },
        "outputId": "077b6154-e202-4083-f72f-aace1c0ff85d"
      },
      "source": [
        "oraciones"
      ],
      "execution_count": 49,
      "outputs": [
        {
          "output_type": "execute_result",
          "data": {
            "text/plain": [
              "[[np.int64(6),\n",
              "  np.float64(0.25),\n",
              "  'Primero porque\\nEstados Unidos ya se había recuperado después de la crisis por la\\npandemia e incluso creció por encima de su nivel potencial.'],\n",
              " [np.int64(0),\n",
              "  np.float64(0.14285714285714285),\n",
              "  'El dato del Producto Interno Bruto PIB dado a conocer por el INEGI ha\\nprovocado una serie de análisis en torno al comportamiento que tiene\\nla economía mexicana.'],\n",
              " [np.int64(3),\n",
              "  np.float64(0.1111111111111111),\n",
              "  'Se trata sin duda de un buen\\nsemestre que muestra que el proceso de recuperación continúa.De\\nacuerdo con el economista este comportamiento en el crecimiento\\neconómico deriva principalmente de algunos factores como los cuellos\\nde botella en las cadenas globales que se han ido resolviendo\\nimpactando directamente en la recuperación de la producción\\nindustrial.'],\n",
              " [np.int64(2),\n",
              "  np.float64(0.09090909090909091),\n",
              "  'Comparando la primera mitad de este año frente al mismo periodo\\ndel año anterior la economía creció 1.7.'],\n",
              " [np.int64(7),\n",
              "  np.float64(0.09090909090909091),\n",
              "  'Era una\\neconomía sobrecalentada lo cual explica en parte su elevada inflación\\ny que ahora está desacelerándose lo cual es deseable y contribuirá a\\nreducir el alza de precios.Para finalizar Serrano reitera que la\\neconomía mexicana no se ha estabilizado de la pandemia y se mantiene\\nen el camino de la recuperación.'],\n",
              " [np.int64(8),\n",
              "  np.float64(0.055555555555555566),\n",
              "  'Es por ello que los datos del\\nsegundo trimestre no demuestran mayor fortaleza en la economía\\nmexicana que en la de Estados Unidos por el contrario reflejan que\\nambas economías siguen muy compenetradas y que en parte debido a ello\\nel próximo año será de menor crecimiento económico.El artículo se\\npublicó en El Financiero el 4 de agosto de 2022 y puede consultarse en\\neste link.'],\n",
              " [np.int64(5),\n",
              "  np.float64(0.037037037037037035),\n",
              "  'Arnulfo Rodríguez\\nHernández economista principal de BBVA México destaca en la columna El\\ndilema que la Fed podría enfrentar publicada en el periódico El\\nEconomista la contundencia con la que la Reserva Federal combate la\\nelevada inflación aun ante un posible escenario de recesión\\neconómica.En su análisis Serrano puntualiza que quienes sostienen que\\nla economía mexicana creció en el trimestre mientras la estadounidense\\nse contraía así como los que dicen que es una señal de fortaleza\\neconómica del país y los que hablan de un proceso de desacoplamiento\\nentre ambas economías son apreciaciones incorrectas.'],\n",
              " [np.int64(1),\n",
              "  np.float64(0.025000000000000005),\n",
              "  'Carlos Serrano Herrera economista jefe de BBVA\\nMéxico detalla en la columna PIB a la primera mitad del año continúa\\nla recuperación débil e incompleta publicada en el periódico El\\nFinanciero cuál es la lectura que debe darse al reporte de este\\nindicador de crecimiento y si el país transita por una recuperación\\neconómica.Serrano explica que el PIB al segundo trimestre del 2022\\nreportó un crecimiento de 1 con respecto al trimestre anterior lo cual\\nimplica que la economía se expandió a un ritmo anualizado de alrededor\\nde 4.'],\n",
              " [np.int64(4),\n",
              "  np.float64(0.02272727272727274),\n",
              "  'Un claro ejemplo en México es la industria automotriz que\\nhace unos meses operaba a un 60 de su capacidad instalada y hoy lo\\nhace a alrededor del 90 que era el nivel observado antes de la\\npandemia.La realidad es que la economía del país sigue mostrando\\nimportantes niveles de holgura y que la recuperación continúa siendo\\nanémica e incompletaAsimismo Serrano destaca que el crecimiento en el\\nconsumo es otro de los elementos que ha favorecido la recuperación\\nesto gracias a los altos niveles de ahorro que las familias tuvieron\\ndurante la pandemia de COVID 19 así como al mejor comportamiento en el\\nempleo la alta e histórica recepción de remesas en el país y a que las\\nrecientes olas de contagios de COVID han sido mucho menos dañinas para\\nla salud que las primerasAun con estos escenarios para el economista\\njefe de BBVA México no se debe determinar que existe una recuperación\\neconómica basada solamente en el dato trimestral del PIB porque la\\nrealidad es que la economía del país sigue mostrando importantes\\nniveles de holgura y que la recuperación continúa siendo anémica e\\nincompleta.Serrano precisa que el crecimiento de la economía mexicana\\nal segundo trimestre de este año significa que la economía está 1.1\\npor debajo del nivel prepandemia lo cual compara mal con las\\nprincipales economías de Latinoamérica como Argentina Brasil Chile\\nColombia y Perú quienes ya recuperaron los niveles que manejaban antes\\nde la pandemia y señala que si comparamos el nivel actual de PIB con\\nel que se tendría de haber seguido creciendo al ritmo prepandemia que\\npor cierto no era de presumir vemos que la economía está 6.8 por\\ndebajo de dicho nivel.En ese sentido el economista anticipa que el PIB\\ndel segundo trimestre de 2022 es muy similar al del mismo periodo de\\n2017 por lo que advierte que la lectura de esta comparación solo\\ndemuestra que en la economía mexicana se han perdido cinco años de\\ncrecimiento en términos per cápita la comparativa es peor.Análisis\\neconómicoAnte los altos niveles de inflación que se han presentado en\\nel mundo el rol institucional de los bancos centrales los obliga a\\nimplementar una política monetaria restrictiva.']]"
            ]
          },
          "metadata": {},
          "execution_count": 49
        }
      ]
    },
    {
      "cell_type": "code",
      "metadata": {
        "source_hash": null,
        "execution_start": 1718411738531,
        "execution_millis": 68,
        "deepnote_to_be_reexecuted": false,
        "cell_id": "f44b46596461493bb6319d6602d31d70",
        "deepnote_cell_type": "code",
        "id": "q60sMaBchZby",
        "colab": {
          "base_uri": "https://localhost:8080/"
        },
        "outputId": "b02ed219-6a9f-4312-8a5f-0e007f9fac16"
      },
      "source": [
        "# Ordenar la lista por el primer elemento de cada sublista\n",
        "oraciones_ord = sorted(oraciones, key=lambda x: x[0])\n",
        "full_text_resumido = []\n",
        "# Imprimir la lista ordenada\n",
        "for item in oraciones_ord:\n",
        "    print(item[2])\n",
        "    full_text_resumido.append(item[2])"
      ],
      "execution_count": 50,
      "outputs": [
        {
          "output_type": "stream",
          "name": "stdout",
          "text": [
            "El dato del Producto Interno Bruto PIB dado a conocer por el INEGI ha\n",
            "provocado una serie de análisis en torno al comportamiento que tiene\n",
            "la economía mexicana.\n",
            "Carlos Serrano Herrera economista jefe de BBVA\n",
            "México detalla en la columna PIB a la primera mitad del año continúa\n",
            "la recuperación débil e incompleta publicada en el periódico El\n",
            "Financiero cuál es la lectura que debe darse al reporte de este\n",
            "indicador de crecimiento y si el país transita por una recuperación\n",
            "económica.Serrano explica que el PIB al segundo trimestre del 2022\n",
            "reportó un crecimiento de 1 con respecto al trimestre anterior lo cual\n",
            "implica que la economía se expandió a un ritmo anualizado de alrededor\n",
            "de 4.\n",
            "Comparando la primera mitad de este año frente al mismo periodo\n",
            "del año anterior la economía creció 1.7.\n",
            "Se trata sin duda de un buen\n",
            "semestre que muestra que el proceso de recuperación continúa.De\n",
            "acuerdo con el economista este comportamiento en el crecimiento\n",
            "económico deriva principalmente de algunos factores como los cuellos\n",
            "de botella en las cadenas globales que se han ido resolviendo\n",
            "impactando directamente en la recuperación de la producción\n",
            "industrial.\n",
            "Un claro ejemplo en México es la industria automotriz que\n",
            "hace unos meses operaba a un 60 de su capacidad instalada y hoy lo\n",
            "hace a alrededor del 90 que era el nivel observado antes de la\n",
            "pandemia.La realidad es que la economía del país sigue mostrando\n",
            "importantes niveles de holgura y que la recuperación continúa siendo\n",
            "anémica e incompletaAsimismo Serrano destaca que el crecimiento en el\n",
            "consumo es otro de los elementos que ha favorecido la recuperación\n",
            "esto gracias a los altos niveles de ahorro que las familias tuvieron\n",
            "durante la pandemia de COVID 19 así como al mejor comportamiento en el\n",
            "empleo la alta e histórica recepción de remesas en el país y a que las\n",
            "recientes olas de contagios de COVID han sido mucho menos dañinas para\n",
            "la salud que las primerasAun con estos escenarios para el economista\n",
            "jefe de BBVA México no se debe determinar que existe una recuperación\n",
            "económica basada solamente en el dato trimestral del PIB porque la\n",
            "realidad es que la economía del país sigue mostrando importantes\n",
            "niveles de holgura y que la recuperación continúa siendo anémica e\n",
            "incompleta.Serrano precisa que el crecimiento de la economía mexicana\n",
            "al segundo trimestre de este año significa que la economía está 1.1\n",
            "por debajo del nivel prepandemia lo cual compara mal con las\n",
            "principales economías de Latinoamérica como Argentina Brasil Chile\n",
            "Colombia y Perú quienes ya recuperaron los niveles que manejaban antes\n",
            "de la pandemia y señala que si comparamos el nivel actual de PIB con\n",
            "el que se tendría de haber seguido creciendo al ritmo prepandemia que\n",
            "por cierto no era de presumir vemos que la economía está 6.8 por\n",
            "debajo de dicho nivel.En ese sentido el economista anticipa que el PIB\n",
            "del segundo trimestre de 2022 es muy similar al del mismo periodo de\n",
            "2017 por lo que advierte que la lectura de esta comparación solo\n",
            "demuestra que en la economía mexicana se han perdido cinco años de\n",
            "crecimiento en términos per cápita la comparativa es peor.Análisis\n",
            "económicoAnte los altos niveles de inflación que se han presentado en\n",
            "el mundo el rol institucional de los bancos centrales los obliga a\n",
            "implementar una política monetaria restrictiva.\n",
            "Arnulfo Rodríguez\n",
            "Hernández economista principal de BBVA México destaca en la columna El\n",
            "dilema que la Fed podría enfrentar publicada en el periódico El\n",
            "Economista la contundencia con la que la Reserva Federal combate la\n",
            "elevada inflación aun ante un posible escenario de recesión\n",
            "económica.En su análisis Serrano puntualiza que quienes sostienen que\n",
            "la economía mexicana creció en el trimestre mientras la estadounidense\n",
            "se contraía así como los que dicen que es una señal de fortaleza\n",
            "económica del país y los que hablan de un proceso de desacoplamiento\n",
            "entre ambas economías son apreciaciones incorrectas.\n",
            "Primero porque\n",
            "Estados Unidos ya se había recuperado después de la crisis por la\n",
            "pandemia e incluso creció por encima de su nivel potencial.\n",
            "Era una\n",
            "economía sobrecalentada lo cual explica en parte su elevada inflación\n",
            "y que ahora está desacelerándose lo cual es deseable y contribuirá a\n",
            "reducir el alza de precios.Para finalizar Serrano reitera que la\n",
            "economía mexicana no se ha estabilizado de la pandemia y se mantiene\n",
            "en el camino de la recuperación.\n",
            "Es por ello que los datos del\n",
            "segundo trimestre no demuestran mayor fortaleza en la economía\n",
            "mexicana que en la de Estados Unidos por el contrario reflejan que\n",
            "ambas economías siguen muy compenetradas y que en parte debido a ello\n",
            "el próximo año será de menor crecimiento económico.El artículo se\n",
            "publicó en El Financiero el 4 de agosto de 2022 y puede consultarse en\n",
            "este link.\n"
          ]
        }
      ]
    },
    {
      "cell_type": "code",
      "source": [
        "print(f\"len doc2 original {len(doc2)}\")\n",
        "print(f\"len doc2 resumido {len(''.join(full_text_resumido))}\")\n"
      ],
      "metadata": {
        "id": "4x1rcMkD9jgV",
        "colab": {
          "base_uri": "https://localhost:8080/"
        },
        "outputId": "94e98e2b-9b92-4b31-e5a6-1049a0401c32"
      },
      "execution_count": 51,
      "outputs": [
        {
          "output_type": "stream",
          "name": "stdout",
          "text": [
            "len doc2 original 4744\n",
            "len doc2 resumido 4730\n"
          ]
        }
      ]
    },
    {
      "cell_type": "code",
      "source": [
        "print(\"####################################\")\n",
        "print(\"doc original\", doc2)\n",
        "print(\"####################################\")\n",
        "print(\"doc resumido\", ''.join(full_text_resumido))\n"
      ],
      "metadata": {
        "colab": {
          "base_uri": "https://localhost:8080/"
        },
        "id": "mu90chOtiqhJ",
        "outputId": "f912d43a-7bfa-43f8-d07b-125e1e2a7e34"
      },
      "execution_count": 52,
      "outputs": [
        {
          "output_type": "stream",
          "name": "stdout",
          "text": [
            "####################################\n",
            "doc original El dato del Producto Interno Bruto PIB dado a conocer por el INEGI ha\n",
            "provocado una serie de análisis en torno al comportamiento que tiene\n",
            "la economía mexicana.  Carlos Serrano Herrera economista jefe de BBVA\n",
            "México detalla en la columna PIB a la primera mitad del año continúa\n",
            "la recuperación débil e incompleta publicada en el periódico El\n",
            "Financiero cuál es la lectura que debe darse al reporte de este\n",
            "indicador de crecimiento y si el país transita por una recuperación\n",
            "económica.Serrano explica que el PIB al segundo trimestre del 2022\n",
            "reportó un crecimiento de 1 con respecto al trimestre anterior lo cual\n",
            "implica que la economía se expandió a un ritmo anualizado de alrededor\n",
            "de 4. Comparando la primera mitad de este año frente al mismo periodo\n",
            "del año anterior la economía creció 1.7. Se trata sin duda de un buen\n",
            "semestre que muestra que el proceso de recuperación continúa.De\n",
            "acuerdo con el economista este comportamiento en el crecimiento\n",
            "económico deriva principalmente de algunos factores como los cuellos\n",
            "de botella en las cadenas globales que se han ido resolviendo\n",
            "impactando directamente en la recuperación de la producción\n",
            "industrial.  Un claro ejemplo en México es la industria automotriz que\n",
            "hace unos meses operaba a un 60 de su capacidad instalada y hoy lo\n",
            "hace a alrededor del 90 que era el nivel observado antes de la\n",
            "pandemia.La realidad es que la economía del país sigue mostrando\n",
            "importantes niveles de holgura y que la recuperación continúa siendo\n",
            "anémica e incompletaAsimismo Serrano destaca que el crecimiento en el\n",
            "consumo es otro de los elementos que ha favorecido la recuperación\n",
            "esto gracias a los altos niveles de ahorro que las familias tuvieron\n",
            "durante la pandemia de COVID 19 así como al mejor comportamiento en el\n",
            "empleo la alta e histórica recepción de remesas en el país y a que las\n",
            "recientes olas de contagios de COVID han sido mucho menos dañinas para\n",
            "la salud que las primerasAun con estos escenarios para el economista\n",
            "jefe de BBVA México no se debe determinar que existe una recuperación\n",
            "económica basada solamente en el dato trimestral del PIB porque la\n",
            "realidad es que la economía del país sigue mostrando importantes\n",
            "niveles de holgura y que la recuperación continúa siendo anémica e\n",
            "incompleta.Serrano precisa que el crecimiento de la economía mexicana\n",
            "al segundo trimestre de este año significa que la economía está 1.1\n",
            "por debajo del nivel prepandemia lo cual compara mal con las\n",
            "principales economías de Latinoamérica como Argentina Brasil Chile\n",
            "Colombia y Perú quienes ya recuperaron los niveles que manejaban antes\n",
            "de la pandemia y señala que si comparamos el nivel actual de PIB con\n",
            "el que se tendría de haber seguido creciendo al ritmo prepandemia que\n",
            "por cierto no era de presumir vemos que la economía está 6.8 por\n",
            "debajo de dicho nivel.En ese sentido el economista anticipa que el PIB\n",
            "del segundo trimestre de 2022 es muy similar al del mismo periodo de\n",
            "2017 por lo que advierte que la lectura de esta comparación solo\n",
            "demuestra que en la economía mexicana se han perdido cinco años de\n",
            "crecimiento en términos per cápita la comparativa es peor.Análisis\n",
            "económicoAnte los altos niveles de inflación que se han presentado en\n",
            "el mundo el rol institucional de los bancos centrales los obliga a\n",
            "implementar una política monetaria restrictiva.  Arnulfo Rodríguez\n",
            "Hernández economista principal de BBVA México destaca en la columna El\n",
            "dilema que la Fed podría enfrentar publicada en el periódico El\n",
            "Economista la contundencia con la que la Reserva Federal combate la\n",
            "elevada inflación aun ante un posible escenario de recesión\n",
            "económica.En su análisis Serrano puntualiza que quienes sostienen que\n",
            "la economía mexicana creció en el trimestre mientras la estadounidense\n",
            "se contraía así como los que dicen que es una señal de fortaleza\n",
            "económica del país y los que hablan de un proceso de desacoplamiento\n",
            "entre ambas economías son apreciaciones incorrectas.  Primero porque\n",
            "Estados Unidos ya se había recuperado después de la crisis por la\n",
            "pandemia e incluso creció por encima de su nivel potencial.  Era una\n",
            "economía sobrecalentada lo cual explica en parte su elevada inflación\n",
            "y que ahora está desacelerándose lo cual es deseable y contribuirá a\n",
            "reducir el alza de precios.Para finalizar Serrano reitera que la\n",
            "economía mexicana no se ha estabilizado de la pandemia y se mantiene\n",
            "en el camino de la recuperación.  Es por ello que los datos del\n",
            "segundo trimestre no demuestran mayor fortaleza en la economía\n",
            "mexicana que en la de Estados Unidos por el contrario reflejan que\n",
            "ambas economías siguen muy compenetradas y que en parte debido a ello\n",
            "el próximo año será de menor crecimiento económico.El artículo se\n",
            "publicó en El Financiero el 4 de agosto de 2022 y puede consultarse en\n",
            "este link.\n",
            "####################################\n",
            "doc resumido El dato del Producto Interno Bruto PIB dado a conocer por el INEGI ha\n",
            "provocado una serie de análisis en torno al comportamiento que tiene\n",
            "la economía mexicana.Carlos Serrano Herrera economista jefe de BBVA\n",
            "México detalla en la columna PIB a la primera mitad del año continúa\n",
            "la recuperación débil e incompleta publicada en el periódico El\n",
            "Financiero cuál es la lectura que debe darse al reporte de este\n",
            "indicador de crecimiento y si el país transita por una recuperación\n",
            "económica.Serrano explica que el PIB al segundo trimestre del 2022\n",
            "reportó un crecimiento de 1 con respecto al trimestre anterior lo cual\n",
            "implica que la economía se expandió a un ritmo anualizado de alrededor\n",
            "de 4.Comparando la primera mitad de este año frente al mismo periodo\n",
            "del año anterior la economía creció 1.7.Se trata sin duda de un buen\n",
            "semestre que muestra que el proceso de recuperación continúa.De\n",
            "acuerdo con el economista este comportamiento en el crecimiento\n",
            "económico deriva principalmente de algunos factores como los cuellos\n",
            "de botella en las cadenas globales que se han ido resolviendo\n",
            "impactando directamente en la recuperación de la producción\n",
            "industrial.Un claro ejemplo en México es la industria automotriz que\n",
            "hace unos meses operaba a un 60 de su capacidad instalada y hoy lo\n",
            "hace a alrededor del 90 que era el nivel observado antes de la\n",
            "pandemia.La realidad es que la economía del país sigue mostrando\n",
            "importantes niveles de holgura y que la recuperación continúa siendo\n",
            "anémica e incompletaAsimismo Serrano destaca que el crecimiento en el\n",
            "consumo es otro de los elementos que ha favorecido la recuperación\n",
            "esto gracias a los altos niveles de ahorro que las familias tuvieron\n",
            "durante la pandemia de COVID 19 así como al mejor comportamiento en el\n",
            "empleo la alta e histórica recepción de remesas en el país y a que las\n",
            "recientes olas de contagios de COVID han sido mucho menos dañinas para\n",
            "la salud que las primerasAun con estos escenarios para el economista\n",
            "jefe de BBVA México no se debe determinar que existe una recuperación\n",
            "económica basada solamente en el dato trimestral del PIB porque la\n",
            "realidad es que la economía del país sigue mostrando importantes\n",
            "niveles de holgura y que la recuperación continúa siendo anémica e\n",
            "incompleta.Serrano precisa que el crecimiento de la economía mexicana\n",
            "al segundo trimestre de este año significa que la economía está 1.1\n",
            "por debajo del nivel prepandemia lo cual compara mal con las\n",
            "principales economías de Latinoamérica como Argentina Brasil Chile\n",
            "Colombia y Perú quienes ya recuperaron los niveles que manejaban antes\n",
            "de la pandemia y señala que si comparamos el nivel actual de PIB con\n",
            "el que se tendría de haber seguido creciendo al ritmo prepandemia que\n",
            "por cierto no era de presumir vemos que la economía está 6.8 por\n",
            "debajo de dicho nivel.En ese sentido el economista anticipa que el PIB\n",
            "del segundo trimestre de 2022 es muy similar al del mismo periodo de\n",
            "2017 por lo que advierte que la lectura de esta comparación solo\n",
            "demuestra que en la economía mexicana se han perdido cinco años de\n",
            "crecimiento en términos per cápita la comparativa es peor.Análisis\n",
            "económicoAnte los altos niveles de inflación que se han presentado en\n",
            "el mundo el rol institucional de los bancos centrales los obliga a\n",
            "implementar una política monetaria restrictiva.Arnulfo Rodríguez\n",
            "Hernández economista principal de BBVA México destaca en la columna El\n",
            "dilema que la Fed podría enfrentar publicada en el periódico El\n",
            "Economista la contundencia con la que la Reserva Federal combate la\n",
            "elevada inflación aun ante un posible escenario de recesión\n",
            "económica.En su análisis Serrano puntualiza que quienes sostienen que\n",
            "la economía mexicana creció en el trimestre mientras la estadounidense\n",
            "se contraía así como los que dicen que es una señal de fortaleza\n",
            "económica del país y los que hablan de un proceso de desacoplamiento\n",
            "entre ambas economías son apreciaciones incorrectas.Primero porque\n",
            "Estados Unidos ya se había recuperado después de la crisis por la\n",
            "pandemia e incluso creció por encima de su nivel potencial.Era una\n",
            "economía sobrecalentada lo cual explica en parte su elevada inflación\n",
            "y que ahora está desacelerándose lo cual es deseable y contribuirá a\n",
            "reducir el alza de precios.Para finalizar Serrano reitera que la\n",
            "economía mexicana no se ha estabilizado de la pandemia y se mantiene\n",
            "en el camino de la recuperación.Es por ello que los datos del\n",
            "segundo trimestre no demuestran mayor fortaleza en la economía\n",
            "mexicana que en la de Estados Unidos por el contrario reflejan que\n",
            "ambas economías siguen muy compenetradas y que en parte debido a ello\n",
            "el próximo año será de menor crecimiento económico.El artículo se\n",
            "publicó en El Financiero el 4 de agosto de 2022 y puede consultarse en\n",
            "este link.\n"
          ]
        }
      ]
    },
    {
      "cell_type": "markdown",
      "source": [
        "Librería NLTK https://www.nltk.org/?lang=es_es"
      ],
      "metadata": {
        "id": "oDNaz9mslU4I"
      }
    }
  ],
  "nbformat": 4,
  "nbformat_minor": 0,
  "metadata": {
    "deepnote_notebook_id": "20da2b34fb2349baa7e4e11aa99ce591",
    "deepnote_execution_queue": [],
    "colab": {
      "provenance": []
    },
    "language_info": {
      "name": "python"
    },
    "kernelspec": {
      "name": "python3",
      "display_name": "Python 3"
    }
  }
}